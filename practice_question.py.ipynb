{
 "cells": [
  {
   "cell_type": "code",
   "execution_count": null,
   "metadata": {},
   "outputs": [],
   "source": [
    "addition_str=\"2+5+6+8+9\"\n",
    "v = addition_str.split(\"+\") #that will contain the values of addition_srting as intiger\n",
    "v"
   ]
  },
  {
   "cell_type": "code",
   "execution_count": null,
   "metadata": {},
   "outputs": [],
   "source": [
    "addition_str=\"2+5+6+8+9\"\n",
    "number= addition_str.split(\"+\")\n",
    "sum_val=0\n",
    "for num in number:\n",
    "    sum_val+=int(num)\n",
    "print(sum_val)\n",
    "    "
   ]
  },
  {
   "cell_type": "markdown",
   "metadata": {},
   "source": [
    "# Dictionary"
   ]
  },
  {
   "cell_type": "code",
   "execution_count": null,
   "metadata": {},
   "outputs": [],
   "source": [
    "medal_count={ \"country\" : \"India\",\n",
    "               \"year\": 2016,\n",
    "               \"type\":\"gold\"\n",
    "            }\n",
    "# print(medal_count.keys())\n",
    "# print(medal_count.values())\n",
    "print(medal_count.items())"
   ]
  },
  {
   "cell_type": "code",
   "execution_count": null,
   "metadata": {},
   "outputs": [],
   "source": [
    "swimmers = {'Manuel':4, 'Lochte':12, 'Adrian':7, 'Ledecky':5, 'Dirado':4}\n",
    "#add additiona value \n",
    "swimmers[\"phelp\"]=23\n",
    "print(swimmers)"
   ]
  },
  {
   "cell_type": "code",
   "execution_count": null,
   "metadata": {},
   "outputs": [],
   "source": [
    "def order_numbers(num1,num2):\n",
    "    if num1>num2:\n",
    "        return num2,num1\n",
    "    else:     \n",
    "        return num1,num2\n",
    "    \n",
    "smaller,bigger= order_numbers(15,25) \n",
    "print(smaller,bigger)"
   ]
  },
  {
   "cell_type": "code",
   "execution_count": null,
   "metadata": {},
   "outputs": [],
   "source": [
    "def print_seconds(hours,minutes,seconds):\n",
    "    t_seconds=3600*hours+60*minutes+seconds\n",
    "    print(t_seconds)\n",
    "    \n",
    "print_seconds(1,2,3)    "
   ]
  },
  {
   "cell_type": "code",
   "execution_count": null,
   "metadata": {},
   "outputs": [],
   "source": [
    "def get_seconds(hours,minutes,seconds):\n",
    "    return 3600*hours+60*minutes+seconds\n",
    "    \n",
    "amount_a=get_seconds(2,3,6)\n",
    "amount_b=get_seconds(0,5,2)\n",
    "result=amount_a+amount_b\n",
    "print(result)"
   ]
  },
  {
   "cell_type": "code",
   "execution_count": null,
   "metadata": {},
   "outputs": [],
   "source": [
    "# REPLACE THIS STARTER CODE WITH YOUR FUNCTION\n",
    "june_days = 30\n",
    "print(\"June has \" + str(june_days) + \" days.\")\n",
    "july_days = 31\n",
    "print(\"July has \" + str(july_days) + \" days.\")"
   ]
  },
  {
   "cell_type": "code",
   "execution_count": null,
   "metadata": {},
   "outputs": [],
   "source": [
    "def month_days(name,days ):\n",
    "    print(str(name)+\" has \"+str(days))\n",
    "    \n",
    "month_days('June',31)    "
   ]
  },
  {
   "cell_type": "code",
   "execution_count": null,
   "metadata": {},
   "outputs": [],
   "source": [
    "def f1(x, y):\n",
    "    z = x*y  # the area is base*height\n",
    "    print(\"The area is \" + str(z))"
   ]
  },
  {
   "cell_type": "code",
   "execution_count": null,
   "metadata": {},
   "outputs": [],
   "source": [
    "def rectangle_area(base,height):\n",
    "        area= base*height\n",
    "        print(\"Area of the rectangle is \" + str(area))\n",
    "rectangle_area(5,6)"
   ]
  },
  {
   "cell_type": "code",
   "execution_count": null,
   "metadata": {},
   "outputs": [],
   "source": [
    "# 1) Complete the function to return the result of the conversion\n",
    "def convert_distance(miles):\n",
    "    km = miles * 1.6  # approximately 1.6 km in 1 mile\n",
    "\n",
    "my_trip_miles = 55\n",
    "\n",
    "# 2) Convert my_trip_miles to kilometers by calling the function above\n",
    "my_trip_km = ___\n",
    "\n",
    "# 3) Fill in the blank to print the result of the conversion\n",
    "print(\"The distance in kilometers is \" + ___)\n",
    "\n",
    "# 4) Calculate the round-trip in kilometers by doubling the result,\n",
    "#    and fill in the blank to print the result\n",
    "print(\"The round-trip in kilometers is \" + ___)"
   ]
  },
  {
   "cell_type": "code",
   "execution_count": null,
   "metadata": {},
   "outputs": [],
   "source": [
    "# 1) Complete the function to return the result of the conversion\n",
    "def convert_distance(miles):\n",
    "    km = miles * 1.6  # approximately 1.6 km in 1 mile\n",
    "\n",
    "my_trip_miles = 55\n",
    "\n",
    "# 2) Convert my_trip_miles to kilometers by calling the function above\n",
    "my_trip_km = convert_distance(55)\n",
    "\n",
    "# 3) Fill in the blank to print the result of the conversion\n",
    "print(\"The distance in kilometers is \" + ___)\n",
    "\n",
    "# 4) Calculate the round-trip in kilometers by doubling the result,\n",
    "#    and fill in the blank to print the result\n",
    "print(\"The round-trip in kilometers is \" + ___)"
   ]
  },
  {
   "cell_type": "markdown",
   "metadata": {},
   "source": [
    "# BMI calculator"
   ]
  },
  {
   "cell_type": "code",
   "execution_count": null,
   "metadata": {},
   "outputs": [],
   "source": [
    "def bmi(weight,height):\n",
    "    result= weight/(height**2)\n",
    "    print(\"your BMI is \" + str(result))\n",
    "    \n",
    "w=int(input(\"Enter your weight \"))\n",
    "h=float(input(\"Enter your height \"))\n",
    "bmi(w,h)"
   ]
  },
  {
   "cell_type": "code",
   "execution_count": null,
   "metadata": {},
   "outputs": [],
   "source": [
    "def debolina():\n",
    "    print(\"We are learning machine learning\")\n",
    "    print(\"Indian cyber security\")"
   ]
  },
  {
   "cell_type": "code",
   "execution_count": null,
   "metadata": {},
   "outputs": [],
   "source": [
    "debolina()"
   ]
  },
  {
   "cell_type": "code",
   "execution_count": null,
   "metadata": {},
   "outputs": [],
   "source": [
    "def add(a,b):\n",
    "    return a+b\n",
    "add(8,6)    "
   ]
  },
  {
   "cell_type": "code",
   "execution_count": null,
   "metadata": {},
   "outputs": [],
   "source": [
    "winners = ['Kazuo Ishiguro', 'Rainer Weiss', 'Youyou Tu', 'Malala Yousafzai', 'Alice Munro', 'Alvin E. Roth']\n",
    "winners.sort()\n",
    "winners"
   ]
  },
  {
   "cell_type": "code",
   "execution_count": null,
   "metadata": {},
   "outputs": [],
   "source": [
    "winners = ['Kazuo Ishiguro', 'Rainer Weiss', 'Youyou Tu', 'Malala Yousafzai', 'Alice Munro', 'Alvin E. Roth']\n",
    "z=sorted(winners,reverse=True)\n",
    "print(z)"
   ]
  },
  {
   "cell_type": "code",
   "execution_count": null,
   "metadata": {},
   "outputs": [],
   "source": [
    "cawdra = ['candy', 'daisy', 'pear', 'peach', 'gem', 'crown']\n",
    "lst=[]\n",
    "for i in cawdra:\n",
    "    lst.append(i)\n",
    "print(i)    "
   ]
  },
  {
   "cell_type": "code",
   "execution_count": null,
   "metadata": {},
   "outputs": [],
   "source": [
    "cawdra = ['candy', 'daisy', 'pear', 'peach', 'gem', 'crown']\n",
    "print(cawdra[3])\n",
    "i=cawdra[2]\n",
    "print(i)\n",
    "print(len(cawdra))"
   ]
  },
  {
   "cell_type": "code",
   "execution_count": null,
   "metadata": {},
   "outputs": [],
   "source": [
    "cawdra.append(\"jelly\")\n",
    "print(cawdra)"
   ]
  },
  {
   "cell_type": "code",
   "execution_count": null,
   "metadata": {},
   "outputs": [],
   "source": [
    "cawdra.insert(2,'pear')\n",
    "print(cawdra)"
   ]
  },
  {
   "cell_type": "code",
   "execution_count": null,
   "metadata": {},
   "outputs": [],
   "source": [
    "cawdra.remove(\"pear\")\n",
    "print(cawdra)"
   ]
  },
  {
   "cell_type": "code",
   "execution_count": null,
   "metadata": {},
   "outputs": [],
   "source": [
    "cawdra.pop(2)"
   ]
  },
  {
   "cell_type": "markdown",
   "metadata": {},
   "source": [
    "# Copy of a list"
   ]
  },
  {
   "cell_type": "code",
   "execution_count": null,
   "metadata": {},
   "outputs": [],
   "source": [
    "cawdra = ['candy', 'daisy', 'pear', 'peach', 'gem', 'crown']\n",
    "mylist=cawdra.copy()\n",
    "print(mylist)"
   ]
  },
  {
   "cell_type": "code",
   "execution_count": null,
   "metadata": {},
   "outputs": [],
   "source": [
    "mylist=list(cawdra)\n",
    "print(mylist)"
   ]
  },
  {
   "cell_type": "markdown",
   "metadata": {},
   "source": [
    "# loop list"
   ]
  },
  {
   "cell_type": "code",
   "execution_count": null,
   "metadata": {},
   "outputs": [],
   "source": [
    "cawdra = ['candy', 'daisy', 'pear', 'peach', 'gem', 'crown']\n",
    "for i in cawdra:\n",
    "    print(i)"
   ]
  },
  {
   "cell_type": "code",
   "execution_count": null,
   "metadata": {},
   "outputs": [],
   "source": [
    "cawdra = ['candy', 'daisy', 'pear', 'peach', 'gem', 'crown']\n",
    "\n",
    "for x in range(len(cawdra)):\n",
    "    print(cawdra[x])"
   ]
  },
  {
   "cell_type": "markdown",
   "metadata": {},
   "source": [
    "# Using while loop"
   ]
  },
  {
   "cell_type": "code",
   "execution_count": null,
   "metadata": {},
   "outputs": [],
   "source": [
    "cawdra = ['candy', 'daisy', 'pear', 'peach', 'gem', 'crown']\n",
    "i=0\n",
    "while i<len(cawdra):\n",
    "    print(cawdra[i])\n",
    "    i+=1"
   ]
  },
  {
   "cell_type": "markdown",
   "metadata": {},
   "source": [
    "# Looping Using List Comprehension\n"
   ]
  },
  {
   "cell_type": "code",
   "execution_count": null,
   "metadata": {},
   "outputs": [],
   "source": [
    "cawdra = ['candy', 'daisy', 'pear', 'peach', 'gem', 'crown']\n",
    "[print(x) for x in cawdra]"
   ]
  },
  {
   "cell_type": "code",
   "execution_count": null,
   "metadata": {},
   "outputs": [],
   "source": [
    "thislist = [\"apple\", \"banana\", \"cherry\"]\n",
    "[print(x) for x in thislist]"
   ]
  },
  {
   "cell_type": "markdown",
   "metadata": {},
   "source": [
    "## Below are a set of scores that students have received in the past semester. Write code to determine how many are 90 or above and assign that result to the value a_scores.\n"
   ]
  },
  {
   "cell_type": "code",
   "execution_count": null,
   "metadata": {},
   "outputs": [],
   "source": [
    "scores = \"67 80 90 78 93 20 79 89 96 97 92 88 79 68 58 90 98 100 79 74 83 88 80 86 85 70 90 100\"\n",
    "scores1 = scores.split(\" \")\n",
    "#print(scores1)\n",
    "a_scores=0\n",
    "for i in scores1:\n",
    "    if int(i)>=90:\n",
    "        a_scores+=1\n",
    "        \n",
    "print(a_scores)        \n",
    "#print(int_list)\n",
    "\n",
    "#print(c)"
   ]
  },
  {
   "cell_type": "code",
   "execution_count": null,
   "metadata": {},
   "outputs": [],
   "source": [
    "scores = \"67 80 90 78 93 20 79 89 96 97 92 88 79 68 58 90 98 100 79 74 83 88 80 86 85 70 90 100\"\n",
    "lst = scores.split()\n",
    "a_scores = 0\n",
    "for i in lst:\n",
    "    if int(i) >= 90:\n",
    "        a_scores += 1\n",
    "print(lst)"
   ]
  },
  {
   "cell_type": "code",
   "execution_count": null,
   "metadata": {},
   "outputs": [],
   "source": [
    "str1 = \"I love python\"\n",
    "\n",
    "chars = []\n",
    "for i in str1:\n",
    "    chars.append(i)\n",
    "print(chars)    "
   ]
  },
  {
   "cell_type": "code",
   "execution_count": null,
   "metadata": {},
   "outputs": [],
   "source": [
    "scores = \"67 80 90 78 93 20 79 89 96 97 92 88 79 68 58 90 98 100 79 74 83 88 80 86 85 70 90 100\"\n",
    "scores1 = scores.split(\" \")\n",
    "#print(scores1)\n",
    "lst =[int(i) for i in scores1]\n",
    "#print(lst)\n",
    "a_scores=[]\n",
    "for k in lst:\n",
    "    if k >= 90:\n",
    "        a_scores.append(k)\n",
    "        a_scores.sort()\n",
    "        \n",
    "print(a_scores)        "
   ]
  },
  {
   "cell_type": "code",
   "execution_count": null,
   "metadata": {},
   "outputs": [],
   "source": []
  },
  {
   "cell_type": "code",
   "execution_count": null,
   "metadata": {},
   "outputs": [],
   "source": [
    "stopwords = ['to', 'a', 'for', 'by', 'an', 'am', 'the', 'so', 'it', 'and', \"The\"]\n",
    "org = \"The organization for health, safety, and education\"\n",
    "words=org.split(\" \")\n",
    "#print(words)\n",
    "acro = []\n",
    "for i in words:\n",
    "    #print(i)\n",
    "    if i != str(stopwords):\n",
    "        #print(i)\n",
    "          acro+= str(words[0])\n",
    "#        \n",
    "print(acro)"
   ]
  },
  {
   "cell_type": "markdown",
   "metadata": {},
   "source": [
    "# python string  methods"
   ]
  },
  {
   "cell_type": "code",
   "execution_count": null,
   "metadata": {},
   "outputs": [],
   "source": [
    "# capitalize()\n",
    "my_txt=\"i love python\"\n",
    "x=my_txt.capitalize()\n",
    "print(x)"
   ]
  },
  {
   "cell_type": "code",
   "execution_count": null,
   "metadata": {},
   "outputs": [],
   "source": [
    "#casefold-----converts srtings into lower case\n",
    "my_txt=\"I LOVE PYTHON\"\n",
    "z=my_txt.casefold()\n",
    "print(z)"
   ]
  },
  {
   "cell_type": "code",
   "execution_count": null,
   "metadata": {},
   "outputs": [],
   "source": [
    "#center\n",
    "a=\" Debolina\"\n",
    "print(a.center(50))\n",
    "a=\" Debolina\"\n",
    "print(a.center(50,\"*\"))\n"
   ]
  },
  {
   "cell_type": "code",
   "execution_count": null,
   "metadata": {},
   "outputs": [],
   "source": [
    "#count\n",
    "txt = \"I love apples, apple are my favorite fruit\"\n",
    "x=txt.count(\"apple\")\n",
    "print(x)\n",
    "txt = \"I love apples, apple are my favorite fruit\"\n",
    "x=txt.count(\"apple\",5,100)\n",
    "print(x)"
   ]
  },
  {
   "cell_type": "code",
   "execution_count": null,
   "metadata": {},
   "outputs": [],
   "source": [
    "#endswith\n",
    "txt = \"I love apples, apple are my favorite fruit\"\n",
    "print(txt.endswith(\"frui\"))"
   ]
  },
  {
   "cell_type": "code",
   "execution_count": null,
   "metadata": {},
   "outputs": [],
   "source": [
    "#find\n",
    "txt = \"I love apples, apple are my favorite fruit\"\n",
    "x=txt.find(\"my\")\n",
    "print(x)"
   ]
  },
  {
   "cell_type": "code",
   "execution_count": null,
   "metadata": {},
   "outputs": [],
   "source": [
    "sports = ['cricket', 'football', 'volleyball', 'baseball', 'softball', 'track and field', 'curling', 'ping pong', 'hockey']\n",
    "sports.insert(2,\"horse back riding\")\n",
    "print(sports)"
   ]
  },
  {
   "cell_type": "code",
   "execution_count": null,
   "metadata": {},
   "outputs": [],
   "source": [
    "trav_dest = ['Beirut', 'Milan', 'Pittsburgh', 'Buenos Aires', 'Nairobi', 'Kathmandu', 'Osaka', 'London', 'Melbourne']\n",
    "\n",
    "trav_dest.pop(7)"
   ]
  },
  {
   "cell_type": "code",
   "execution_count": null,
   "metadata": {},
   "outputs": [],
   "source": [
    "trav_dest = ['Beirut', 'Milan', 'Pittsburgh', 'Buenos Aires', 'Nairobi', 'Kathmandu', 'Osaka', 'London', 'Melbourne']\n",
    "\n",
    "trav_dest.append('Guajaldara')\n",
    "print(trav_dest)"
   ]
  },
  {
   "cell_type": "code",
   "execution_count": null,
   "metadata": {},
   "outputs": [],
   "source": [
    "winners = ['Kazuo Ishiguro', 'Rainer Weiss', 'Youyou Tu', 'Malala Yousafzai', 'Alice Munro', 'Alvin E. Roth']\n",
    "winners.sort()\n",
    "print(winners)"
   ]
  },
  {
   "cell_type": "code",
   "execution_count": null,
   "metadata": {},
   "outputs": [],
   "source": [
    "winners = ['Kazuo Ishiguro', 'Rainer Weiss', 'Youyou Tu', 'Malala Yousafzai', 'Alice Munro', 'Alvin E. Roth']\n",
    "z=sorted(winners,reverse=True)\n",
    "print(z)"
   ]
  },
  {
   "cell_type": "code",
   "execution_count": null,
   "metadata": {},
   "outputs": [],
   "source": [
    "str1 = \"I love python\"\n",
    "# HINT: what's the accumulator? That should go here.\n",
    "x=str1.replace(\" \",\"\")\n",
    "print(x)\n",
    "lst=[]\n",
    "for i in x:\n",
    "    lst.append(i)\n",
    "print(i)"
   ]
  },
  {
   "cell_type": "code",
   "execution_count": null,
   "metadata": {},
   "outputs": [],
   "source": [
    "wrds = [\"end\", 'work', \"play\", \"start\", \"walk\", \"look\", \"open\", \"rain\", \"learn\", \"clean\"]\n",
    "past_tns=[]\n",
    "for i in wrds:\n",
    "    i+=\"ed\"\n",
    "    past_tns.append(i)\n",
    "print(past_tns)"
   ]
  },
  {
   "cell_type": "code",
   "execution_count": null,
   "metadata": {},
   "outputs": [],
   "source": [
    "n = int(input().strip())\n",
    "if n>=2 and n<=5:\n",
    "    if n%2==0:\n",
    "        print(\"not wired\")\n",
    "        \n"
   ]
  },
  {
   "cell_type": "code",
   "execution_count": null,
   "metadata": {},
   "outputs": [],
   "source": [
    "class point():\n",
    "    def __init__(self,x):\n",
    "        self.x=x\n",
    "    def xvalue(self):\n",
    "        return self.x\n",
    "point1=point(5)\n",
    "point2=point(10)\n",
    "print(point1.xvalue())\n",
    "print(point2.xvalue())"
   ]
  },
  {
   "cell_type": "code",
   "execution_count": null,
   "metadata": {},
   "outputs": [],
   "source": [
    "class computer:\n",
    "    def config(self):\n",
    "        print(\"i5 ,16gb\")\n",
    "comp1=computer()\n",
    "computer.config()\n",
    "    "
   ]
  },
  {
   "cell_type": "code",
   "execution_count": null,
   "metadata": {},
   "outputs": [],
   "source": [
    "class cal(a,b):\n",
    "    def add(self):\n",
    "        return a+b\n",
    "    def sub(self):\n",
    "        return a-b\n",
    "    def mul(self):\n",
    "        return a*b\n",
    "    def div(self):\n",
    "        return a/b\n",
    "r=cal(10,5)\n",
    "cal.add(5,6)\n"
   ]
  },
  {
   "cell_type": "markdown",
   "metadata": {},
   "source": [
    "# Numpy"
   ]
  },
  {
   "cell_type": "code",
   "execution_count": null,
   "metadata": {},
   "outputs": [],
   "source": [
    "import numpy as np\n",
    "arr= np.array([1,2,3,4])\n",
    "print(arr)"
   ]
  },
  {
   "cell_type": "code",
   "execution_count": null,
   "metadata": {},
   "outputs": [],
   "source": [
    "import numpy as np \n",
    "\n",
    "print(np.__version__)"
   ]
  },
  {
   "cell_type": "code",
   "execution_count": null,
   "metadata": {
    "scrolled": true
   },
   "outputs": [],
   "source": [
    "import numpy as np \n",
    "arr= np.array([1,2,3,4,5,6])\n",
    "print(arr)\n",
    "print(type(arr))"
   ]
  },
  {
   "cell_type": "code",
   "execution_count": null,
   "metadata": {},
   "outputs": [],
   "source": [
    "import numpy as np \n",
    "arr=np.array((1,2,3,4,5,6))\n",
    "print(arr)"
   ]
  },
  {
   "cell_type": "markdown",
   "metadata": {},
   "source": [
    "# 0_D array"
   ]
  },
  {
   "cell_type": "code",
   "execution_count": null,
   "metadata": {},
   "outputs": [],
   "source": [
    "import numpy as np\n",
    "arr=np.array(42)\n",
    "print(arr)"
   ]
  },
  {
   "cell_type": "markdown",
   "metadata": {},
   "source": [
    "# 1-D array"
   ]
  },
  {
   "cell_type": "code",
   "execution_count": null,
   "metadata": {},
   "outputs": [],
   "source": [
    "import numpy as np \n",
    "arr= np.array([1,2,3,4,5,6])\n",
    "print(arr)\n",
    "print(type(arr))"
   ]
  },
  {
   "cell_type": "markdown",
   "metadata": {},
   "source": [
    "# 2- D array"
   ]
  },
  {
   "cell_type": "code",
   "execution_count": null,
   "metadata": {},
   "outputs": [],
   "source": [
    "import numpy as np \n",
    "arr= np.array([[1,2,3,4,5,6],[1,2,3,4,5,6]])\n",
    "print(arr)"
   ]
  },
  {
   "cell_type": "markdown",
   "metadata": {},
   "source": [
    "# 3-D array"
   ]
  },
  {
   "cell_type": "code",
   "execution_count": null,
   "metadata": {},
   "outputs": [],
   "source": [
    "import numpy as np\n",
    "arr=np.array([[[1,2,3,4,5,6],[1,2,3,4,]],[[1,2,3,4][1,2,3,4]]])\n",
    "print(arr)"
   ]
  },
  {
   "cell_type": "code",
   "execution_count": null,
   "metadata": {},
   "outputs": [],
   "source": [
    "import numpy as np\n",
    "arr=np.array([1,2,3,4],ndmin=5)\n",
    "print(arr)"
   ]
  },
  {
   "cell_type": "markdown",
   "metadata": {},
   "source": [
    "# accesing elements of array "
   ]
  },
  {
   "cell_type": "code",
   "execution_count": null,
   "metadata": {},
   "outputs": [],
   "source": [
    "import numpy as np \n",
    "arr=np.array([1,2,3,4,5,6])\n",
    "#print(arr[0])\n",
    "print(arr.dtype)"
   ]
  },
  {
   "cell_type": "code",
   "execution_count": null,
   "metadata": {},
   "outputs": [],
   "source": [
    "import numpy as np \n",
    "arr=np.array([1,2,3,4,5,6])\n",
    "print(arr[2:5])\n",
    "print(arr[::2])"
   ]
  },
  {
   "cell_type": "markdown",
   "metadata": {},
   "source": [
    "   # adding valu of array "
   ]
  },
  {
   "cell_type": "code",
   "execution_count": null,
   "metadata": {},
   "outputs": [],
   "source": [
    "import numpy as np\n",
    "arr=np.array([1,2,3,4,5,6])\n",
    "print(arr[2]+arr[3])"
   ]
  },
  {
   "cell_type": "markdown",
   "metadata": {},
   "source": [
    "# accesing elements of 2-D array"
   ]
  },
  {
   "cell_type": "code",
   "execution_count": null,
   "metadata": {},
   "outputs": [],
   "source": [
    "import numpy as np\n",
    "arr=np.array([1,2,3,4,5],ndmin=2)\n",
    "print(arr[0,3])"
   ]
  },
  {
   "cell_type": "code",
   "execution_count": null,
   "metadata": {},
   "outputs": [],
   "source": [
    "import numpy as np\n",
    "arr=np.array([[1,2,3,4],[5,6,9,8]])\n",
    "\n",
    "print(arr[1,3])\n",
    "print(arr[0:4,0:2])"
   ]
  },
  {
   "cell_type": "markdown",
   "metadata": {},
   "source": [
    "# data type in numpy"
   ]
  },
  {
   "cell_type": "code",
   "execution_count": null,
   "metadata": {},
   "outputs": [],
   "source": [
    "import numpy as np\n",
    "arr=np.array([1,2,3,4,5])\n",
    "print(arr.dtype)"
   ]
  },
  {
   "cell_type": "code",
   "execution_count": null,
   "metadata": {},
   "outputs": [],
   "source": [
    "import numpy as np\n",
    "arr=np.array([1.2,2.6,3.0,4.9])\n",
    "newArr=arr.astype('i')\n",
    "print(arr.dtype)\n",
    "print(newArr.dtype)"
   ]
  },
  {
   "cell_type": "code",
   "execution_count": null,
   "metadata": {},
   "outputs": [],
   "source": [
    "import numpy as np\n",
    "arr=np.array([[1,2,3],[4,5,6]])\n",
    "print(arr[0,2])"
   ]
  },
  {
   "cell_type": "code",
   "execution_count": null,
   "metadata": {},
   "outputs": [],
   "source": [
    "import numpy as np\n",
    "arr=np.array([[[1,2,3],[4,5,6]],[[7,8,9],[8,5,2]]])\n",
    "print(arr[0,1,2])\n",
    "print(arr[1,1,2])"
   ]
  },
  {
   "cell_type": "code",
   "execution_count": null,
   "metadata": {},
   "outputs": [],
   "source": [
    "import numpy as np\n",
    "arr=np.array([1,2,3,4,5],ndmin=5)\n",
    "print(\"Number of dimension is :\",arr.ndim)"
   ]
  },
  {
   "cell_type": "markdown",
   "metadata": {},
   "source": [
    "# slicing of 2-deminesional array"
   ]
  },
  {
   "cell_type": "code",
   "execution_count": null,
   "metadata": {},
   "outputs": [],
   "source": [
    "import numpy as np\n",
    "arr=np.array([[1,2,3,9,6,7],[4,5,6,7,5,3]])\n",
    "print(arr[0,0::2])"
   ]
  },
  {
   "cell_type": "code",
   "execution_count": null,
   "metadata": {},
   "outputs": [],
   "source": [
    "print(arr[0:2,2])"
   ]
  },
  {
   "cell_type": "code",
   "execution_count": null,
   "metadata": {},
   "outputs": [],
   "source": [
    "print(arr[0:2,0:4])"
   ]
  },
  {
   "cell_type": "markdown",
   "metadata": {},
   "source": [
    "# creating array with specific data type"
   ]
  },
  {
   "cell_type": "code",
   "execution_count": null,
   "metadata": {},
   "outputs": [],
   "source": [
    "import numpy as np\n",
    "arr=np.array([1,2,3,4],dtype=\"S\")\n",
    "print(arr)\n",
    "print(arr.dtype)"
   ]
  },
  {
   "cell_type": "code",
   "execution_count": null,
   "metadata": {},
   "outputs": [],
   "source": [
    "arr=np.array([1,2,3,4,6],dtype=\"i4\")\n",
    "print(arr.dtype)"
   ]
  },
  {
   "cell_type": "markdown",
   "metadata": {},
   "source": [
    "# convert data typr in existing array"
   ]
  },
  {
   "cell_type": "code",
   "execution_count": null,
   "metadata": {},
   "outputs": [],
   "source": [
    "import numpy as np\n",
    "arr=np.array([1.1,2.3,4.2])\n",
    "newarr=arr.astype(\"i\")\n",
    "print(newarr)\n",
    "print(newarr.dtype)"
   ]
  },
  {
   "cell_type": "code",
   "execution_count": null,
   "metadata": {},
   "outputs": [],
   "source": [
    "arr=np.array([1,0,3])\n",
    "newarr=arr.astype(\"bool\")\n",
    "print(newarr)\n",
    "print(newarr.dtype)"
   ]
  },
  {
   "cell_type": "markdown",
   "metadata": {},
   "source": [
    "# copy and view array"
   ]
  },
  {
   "cell_type": "code",
   "execution_count": null,
   "metadata": {},
   "outputs": [],
   "source": [
    "import numpy as np\n",
    "arr=np.array([1,2,3,4,5])\n",
    "x=arr.copy()\n",
    "arr[0]=8\n",
    "print(arr)\n",
    "print(x)\n"
   ]
  },
  {
   "cell_type": "code",
   "execution_count": null,
   "metadata": {},
   "outputs": [],
   "source": [
    "arr=np.array([7,8,9,6,5])\n",
    "x=arr.view()\n",
    "#arr[0]=10\n",
    "x[0]=11\n",
    "print(arr)\n",
    "print(x)"
   ]
  },
  {
   "cell_type": "code",
   "execution_count": null,
   "metadata": {},
   "outputs": [],
   "source": [
    "arr=np.array([1,2,3,4,5,6])\n",
    "x=arr.copy()\n",
    "y=arr.view()\n",
    "print(x.base)\n",
    "print(y.base)"
   ]
  },
  {
   "cell_type": "code",
   "execution_count": null,
   "metadata": {},
   "outputs": [],
   "source": [
    "lis=[]\n",
    "for i in range(10):\n",
    "    lis.append(1)\n",
    "print(lis)"
   ]
  },
  {
   "cell_type": "code",
   "execution_count": null,
   "metadata": {},
   "outputs": [],
   "source": [
    "lis=[i for i in range(10)]\n",
    "lis"
   ]
  },
  {
   "cell_type": "code",
   "execution_count": null,
   "metadata": {},
   "outputs": [],
   "source": [
    "import numpy as np \n",
    "arr=np.array([[[1,2,3],[4,5,6]],[[7,8,9],[9,6,3]]])\n",
    "for x in np.nditer(arr):\n",
    "    print(x)"
   ]
  },
  {
   "cell_type": "code",
   "execution_count": null,
   "metadata": {},
   "outputs": [],
   "source": [
    "arr=np.array([1,2,3,4])\n",
    "for x in np.nditer(arr,flags=['buffered'],op_dtypes=[\"S\"]):\n",
    "    print(x)"
   ]
  },
  {
   "cell_type": "code",
   "execution_count": null,
   "metadata": {},
   "outputs": [],
   "source": [
    "arr=np.array([1,2,3,4])\n",
    "for idx,x in np.ndenumerate(arr):\n",
    "    print(idx,x)"
   ]
  },
  {
   "cell_type": "markdown",
   "metadata": {},
   "source": [
    "# filtering arrays"
   ]
  },
  {
   "cell_type": "code",
   "execution_count": null,
   "metadata": {},
   "outputs": [],
   "source": [
    "import numpy as np\n",
    "arr=np.array([1,2,3,4,5,6])\n",
    "x=[True, False,True,False,False,True]\n",
    "newarr=arr[x]\n",
    "print(newarr)"
   ]
  },
  {
   "cell_type": "code",
   "execution_count": null,
   "metadata": {},
   "outputs": [],
   "source": [
    "arr=np.array([1,2,3,4,5,6])\n",
    "filter_arr=[]\n",
    "for element in arr:\n",
    "    if element >3:\n",
    "        filter_arr.append(True)\n",
    "    else:\n",
    "        filter_arr.append(False)\n",
    "newarr=arr[filter_arr]\n",
    "print(newarr)\n",
    "print(arr)"
   ]
  },
  {
   "cell_type": "code",
   "execution_count": null,
   "metadata": {},
   "outputs": [],
   "source": [
    "import numpy as np\n",
    "\n",
    "arr = np.array([41, 42, 43, 44])\n",
    "\n",
    "# Create an empty list\n",
    "filter_arr = []\n",
    "\n",
    "# go through each element in arr\n",
    "for element in arr:\n",
    "  # if the element is higher than 42, set the value to True, otherwise False:\n",
    "  if element > 42:\n",
    "    filter_arr.append(True)\n",
    "  else:\n",
    "    filter_arr.append(False)\n",
    "\n",
    "newarr = arr[filter_arr]\n",
    "\n",
    "print(filter_arr)\n",
    "print(newarr)"
   ]
  },
  {
   "cell_type": "code",
   "execution_count": null,
   "metadata": {},
   "outputs": [],
   "source": [
    "import numpy as np\n",
    "arr=np.array([10,20,6,8,16,7,9])\n",
    "filter_arr=[]\n",
    "for element in arr:\n",
    "    if element%2==0:\n",
    "        filter_arr.append(True)\n",
    "    else:\n",
    "        filter_arr.append(False)\n",
    "newarr=arr[filter_arr]\n",
    "print(arr)\n",
    "print(newarr)"
   ]
  },
  {
   "cell_type": "code",
   "execution_count": null,
   "metadata": {},
   "outputs": [],
   "source": [
    "arr=np.array([40,42,43,48,50])\n",
    "filter_arr=arr>42\n",
    "newarr=arr[filter_arr]\n",
    "print(arr)\n",
    "print(filter_arr)\n",
    "print(newarr)"
   ]
  },
  {
   "cell_type": "code",
   "execution_count": null,
   "metadata": {},
   "outputs": [],
   "source": [
    "arr=np.array([5,7,9,5,8,10,14])\n",
    "filter_arr=arr%2==0\n",
    "newarr=arr[filter_arr]\n",
    "print(newarr)\n",
    "print(filter_arr)"
   ]
  },
  {
   "cell_type": "markdown",
   "metadata": {},
   "source": [
    "# sorting of array"
   ]
  },
  {
   "cell_type": "code",
   "execution_count": null,
   "metadata": {},
   "outputs": [],
   "source": [
    "arr=np.array([0,3,1,5,4])\n",
    "print(np.sort(arr))"
   ]
  },
  {
   "cell_type": "code",
   "execution_count": null,
   "metadata": {},
   "outputs": [],
   "source": [
    "arr=np.array([\"banana\",\"apple\",\"cherry\"])\n",
    "print(np.sort(arr))"
   ]
  },
  {
   "cell_type": "code",
   "execution_count": null,
   "metadata": {},
   "outputs": [],
   "source": [
    "arr=np.array([[1,2,3,4],[4,5,6,7]])\n",
    "print(np.sort(arr))"
   ]
  },
  {
   "cell_type": "code",
   "execution_count": null,
   "metadata": {},
   "outputs": [],
   "source": [
    "arr=np.array([1,2,3,4,5,6,7,8])\n",
    "x=np.where(arr==7)\n",
    "print(x)"
   ]
  },
  {
   "cell_type": "code",
   "execution_count": null,
   "metadata": {},
   "outputs": [],
   "source": [
    "x=np.where(arr%2==0)\n",
    "print(x)"
   ]
  },
  {
   "cell_type": "code",
   "execution_count": null,
   "metadata": {},
   "outputs": [],
   "source": [
    "x=np.where(arr%2==1)\n",
    "print(x)"
   ]
  },
  {
   "cell_type": "code",
   "execution_count": null,
   "metadata": {},
   "outputs": [],
   "source": [
    "\n",
    "arr=np.array([6,7,8,9])\n",
    "x=np.searchsorted(arr,7)\n",
    "print(x)\n"
   ]
  },
  {
   "cell_type": "code",
   "execution_count": null,
   "metadata": {},
   "outputs": [],
   "source": [
    "arr=np.array([1,3,5,7])\n",
    "x=np.searchsorted(arr,[2,4,6])\n",
    "print(x)"
   ]
  },
  {
   "cell_type": "code",
   "execution_count": null,
   "metadata": {},
   "outputs": [],
   "source": [
    "arr=np.array([1,2,3,5,4,8,9])\n",
    "newarr=np.array_split(arr,3)\n",
    "print(newarr)"
   ]
  },
  {
   "cell_type": "code",
   "execution_count": null,
   "metadata": {},
   "outputs": [],
   "source": [
    "arr=np.array([1,2,3,5,4,8,9])\n",
    "newarr=np.array_split(arr,4)\n",
    "print(newarr)"
   ]
  },
  {
   "cell_type": "code",
   "execution_count": null,
   "metadata": {},
   "outputs": [],
   "source": [
    "arr=np.array([1,2,3,4,5,8,7,9,8])\n",
    "newarr=np.array_split(arr,3)\n",
    "print(newarr[0])\n",
    "print(newarr[1])\n",
    "print(newarr[2])\n"
   ]
  },
  {
   "cell_type": "code",
   "execution_count": null,
   "metadata": {},
   "outputs": [],
   "source": [
    "import numpy as np\n",
    "np.full(shape=(5,6),fill_value=3.14)\n",
    "np.full(shape=(3,3),fill_value=2.0)"
   ]
  },
  {
   "cell_type": "code",
   "execution_count": null,
   "metadata": {},
   "outputs": [],
   "source": [
    "a= np.linspace(0,1,)"
   ]
  },
  {
   "cell_type": "code",
   "execution_count": null,
   "metadata": {},
   "outputs": [],
   "source": [
    "import pandas as pd"
   ]
  },
  {
   "cell_type": "code",
   "execution_count": null,
   "metadata": {},
   "outputs": [],
   "source": [
    "purchase_1 = pd.Series({'Name': 'Chris',\n",
    "                        'Item Purchased': 'Dog Food',\n",
    "                        'Cost': 22.50})\n",
    "purchase_2 = pd.Series({'Name': 'Kevyn',\n",
    "                        'Item Purchased': 'Kitty Litter',\n",
    "                        'Cost': 2.50})\n",
    "purchase_3 = pd.Series({'Name': 'Vinod',\n",
    "                        'Item Purchased': 'Bird Seed',\n",
    "                        'Cost': 5.00})\n",
    "\n",
    "df = pd.DataFrame([purchase_1, purchase_2, purchase_3], index=['Store 1', 'Store 2', 'Store 3'])\n",
    "\n",
    "# Your code here\n",
    "df.loc[\"Item Purchased\"]"
   ]
  },
  {
   "cell_type": "code",
   "execution_count": null,
   "metadata": {},
   "outputs": [],
   "source": [
    "import pandas as pd"
   ]
  },
  {
   "cell_type": "code",
   "execution_count": null,
   "metadata": {},
   "outputs": [],
   "source": [
    "numbers =[1,2,3,4,5,6]\n",
    "pd.Series(numbers)"
   ]
  },
  {
   "cell_type": "code",
   "execution_count": null,
   "metadata": {},
   "outputs": [],
   "source": [
    "animals=[\"tiger\",\"Bear\",None]\n",
    "pd.Series(animals)"
   ]
  },
  {
   "cell_type": "code",
   "execution_count": null,
   "metadata": {},
   "outputs": [],
   "source": [
    "Numbers=[1,2,None]\n",
    "pd.Series(Numbers)"
   ]
  },
  {
   "cell_type": "code",
   "execution_count": null,
   "metadata": {},
   "outputs": [],
   "source": [
    "sports={ \"Archary\": \"Bhutan\",\n",
    "        \"Golf\"\n",
    "    \n",
    "}"
   ]
  },
  {
   "cell_type": "code",
   "execution_count": null,
   "metadata": {},
   "outputs": [],
   "source": [
    "import pandas as pd\n",
    "number =[1,5,9,6,3,5]\n",
    "pd.Series(number)"
   ]
  },
  {
   "cell_type": "code",
   "execution_count": null,
   "metadata": {},
   "outputs": [],
   "source": [
    "animals=[\"tiger\",\"Lion\",'bear']\n",
    "pd.Series(animals)"
   ]
  },
  {
   "cell_type": "code",
   "execution_count": null,
   "metadata": {},
   "outputs": [],
   "source": [
    "sports={\"Archary\":\"Bhutan\",\n",
    "        \"Golf\":\"Scotland\",\n",
    "        \"Sumo\":\"Japan\",\n",
    "        \"Taekowndo\":\"South Korea\"\n",
    "       }\n",
    "s=pd.Series(sports)\n",
    "s"
   ]
  },
  {
   "cell_type": "code",
   "execution_count": null,
   "metadata": {},
   "outputs": [],
   "source": [
    "s[\"Sumo\"]\n"
   ]
  },
  {
   "cell_type": "code",
   "execution_count": null,
   "metadata": {},
   "outputs": [],
   "source": [
    "s.index"
   ]
  },
  {
   "cell_type": "code",
   "execution_count": null,
   "metadata": {},
   "outputs": [],
   "source": [
    "s=pd.Series(['Tiger','Bear','Moose'],index=['India','America','Canada'])\n",
    "s"
   ]
  },
  {
   "cell_type": "code",
   "execution_count": null,
   "metadata": {},
   "outputs": [],
   "source": [
    "sports={\n",
    "    \"Archary\":'Bhutan',\n",
    "    'Golf':\"Scotland\",\n",
    "    \"Sumo\":\"japan\",\n",
    "    \"Taekwondo\":'South Korea'\n",
    "    \n",
    "}\n",
    "s=pd.Series(sports)\n",
    "s"
   ]
  },
  {
   "cell_type": "code",
   "execution_count": null,
   "metadata": {},
   "outputs": [],
   "source": [
    "s.iloc[2]"
   ]
  },
  {
   "cell_type": "code",
   "execution_count": null,
   "metadata": {},
   "outputs": [],
   "source": [
    "s.loc[\"Sumo\"]"
   ]
  },
  {
   "cell_type": "code",
   "execution_count": null,
   "metadata": {},
   "outputs": [],
   "source": [
    "s[3]"
   ]
  },
  {
   "cell_type": "code",
   "execution_count": null,
   "metadata": {},
   "outputs": [],
   "source": [
    "s[0]"
   ]
  },
  {
   "cell_type": "code",
   "execution_count": null,
   "metadata": {},
   "outputs": [],
   "source": [
    "s=pd.Series([100.00,101.00,3.2,2.33])\n",
    "s"
   ]
  },
  {
   "cell_type": "code",
   "execution_count": null,
   "metadata": {},
   "outputs": [],
   "source": [
    "s+=2\n",
    "s"
   ]
  },
  {
   "cell_type": "code",
   "execution_count": null,
   "metadata": {},
   "outputs": [],
   "source": [
    "total =0\n",
    "for item in s:\n",
    "    total+=item\n",
    "print(total)"
   ]
  },
  {
   "cell_type": "code",
   "execution_count": null,
   "metadata": {},
   "outputs": [],
   "source": [
    "import numpy as np\n",
    "total=np.sum(s)\n",
    "total"
   ]
  },
  {
   "cell_type": "code",
   "execution_count": null,
   "metadata": {},
   "outputs": [],
   "source": [
    "s=pd.Series([100,200,400,500,600,100,50])\n",
    "total=np.sum(s)\n",
    "total"
   ]
  },
  {
   "cell_type": "code",
   "execution_count": null,
   "metadata": {},
   "outputs": [],
   "source": [
    "len(s)"
   ]
  },
  {
   "cell_type": "code",
   "execution_count": null,
   "metadata": {},
   "outputs": [],
   "source": [
    "s+=2\n",
    "s.head()"
   ]
  },
  {
   "cell_type": "code",
   "execution_count": null,
   "metadata": {},
   "outputs": [],
   "source": [
    "s=pd.Series(np.random.randint(0,1000,10000))\n",
    "s"
   ]
  },
  {
   "cell_type": "code",
   "execution_count": null,
   "metadata": {},
   "outputs": [],
   "source": [
    "a=pd.Series([1,2,3])\n",
    "a"
   ]
  },
  {
   "cell_type": "code",
   "execution_count": 4,
   "metadata": {},
   "outputs": [],
   "source": [
    "import pandas as pd\n",
    "original_sports=pd.Series({\n",
    "                'Archary':'Bhutan',\n",
    "                'Golf':'Scotland',\n",
    "                'Sumo':'Japan',\n",
    "                'Taekowndo':'South Korea'\n",
    "})\n",
    "\n",
    "cricket_loving_country=pd.Series(\n",
    "           [\"Australia\",\n",
    "        \"Barbados\",\n",
    "    \"India\",\n",
    "    \"Pakistan\"],\n",
    "    \n",
    "    index=['cricket',\n",
    "           'cricket',\n",
    "           'cricket',\n",
    "           'cricket'\n",
    "          \n",
    "          ]\n",
    ")\n",
    "all_countries=original_sports.append(cricket_loving_country)"
   ]
  },
  {
   "cell_type": "code",
   "execution_count": 2,
   "metadata": {},
   "outputs": [
    {
     "data": {
      "text/plain": [
       "Archary           Bhutan\n",
       "Golf            Scotland\n",
       "Sumo               Japan\n",
       "Taekowndo    South Korea\n",
       "dtype: object"
      ]
     },
     "execution_count": 2,
     "metadata": {},
     "output_type": "execute_result"
    }
   ],
   "source": [
    "original_sports"
   ]
  },
  {
   "cell_type": "code",
   "execution_count": 5,
   "metadata": {},
   "outputs": [
    {
     "data": {
      "text/plain": [
       "cricket    Australia\n",
       "cricket     Barbados\n",
       "cricket        India\n",
       "cricket     Pakistan\n",
       "dtype: object"
      ]
     },
     "execution_count": 5,
     "metadata": {},
     "output_type": "execute_result"
    }
   ],
   "source": [
    "cricket_loving_country"
   ]
  },
  {
   "cell_type": "code",
   "execution_count": 6,
   "metadata": {},
   "outputs": [
    {
     "data": {
      "text/plain": [
       "Archary           Bhutan\n",
       "Golf            Scotland\n",
       "Sumo               Japan\n",
       "Taekowndo    South Korea\n",
       "cricket        Australia\n",
       "cricket         Barbados\n",
       "cricket            India\n",
       "cricket         Pakistan\n",
       "dtype: object"
      ]
     },
     "execution_count": 6,
     "metadata": {},
     "output_type": "execute_result"
    }
   ],
   "source": [
    "all_countries"
   ]
  },
  {
   "cell_type": "code",
   "execution_count": 7,
   "metadata": {},
   "outputs": [
    {
     "data": {
      "text/plain": [
       "cricket    Australia\n",
       "cricket     Barbados\n",
       "cricket        India\n",
       "cricket     Pakistan\n",
       "dtype: object"
      ]
     },
     "execution_count": 7,
     "metadata": {},
     "output_type": "execute_result"
    }
   ],
   "source": [
    "all_countries.loc['cricket']"
   ]
  },
  {
   "cell_type": "code",
   "execution_count": 15,
   "metadata": {},
   "outputs": [
    {
     "data": {
      "text/html": [
       "<div>\n",
       "<style scoped>\n",
       "    .dataframe tbody tr th:only-of-type {\n",
       "        vertical-align: middle;\n",
       "    }\n",
       "\n",
       "    .dataframe tbody tr th {\n",
       "        vertical-align: top;\n",
       "    }\n",
       "\n",
       "    .dataframe thead th {\n",
       "        text-align: right;\n",
       "    }\n",
       "</style>\n",
       "<table border=\"1\" class=\"dataframe\">\n",
       "  <thead>\n",
       "    <tr style=\"text-align: right;\">\n",
       "      <th></th>\n",
       "      <th>Name</th>\n",
       "      <th>Item purchased</th>\n",
       "      <th>Cost</th>\n",
       "      <th>cost</th>\n",
       "    </tr>\n",
       "  </thead>\n",
       "  <tbody>\n",
       "    <tr>\n",
       "      <th>Store 1</th>\n",
       "      <td>Chris</td>\n",
       "      <td>Dog Food</td>\n",
       "      <td>22.5</td>\n",
       "      <td>NaN</td>\n",
       "    </tr>\n",
       "    <tr>\n",
       "      <th>strore 2</th>\n",
       "      <td>Kevin</td>\n",
       "      <td>Kitty Litter</td>\n",
       "      <td>NaN</td>\n",
       "      <td>2.5</td>\n",
       "    </tr>\n",
       "    <tr>\n",
       "      <th>store 3</th>\n",
       "      <td>Vinod</td>\n",
       "      <td>Bird seed</td>\n",
       "      <td>5.0</td>\n",
       "      <td>NaN</td>\n",
       "    </tr>\n",
       "  </tbody>\n",
       "</table>\n",
       "</div>"
      ],
      "text/plain": [
       "           Name Item purchased  Cost  cost\n",
       "Store 1   Chris       Dog Food  22.5   NaN\n",
       "strore 2  Kevin   Kitty Litter   NaN   2.5\n",
       "store 3   Vinod      Bird seed   5.0   NaN"
      ]
     },
     "execution_count": 15,
     "metadata": {},
     "output_type": "execute_result"
    }
   ],
   "source": [
    "import pandas as pd\n",
    "purchase=pd.Series({\n",
    "    \"Name\":\"Chris\",\n",
    "    \"Item purchased\": \"Dog Food\",\n",
    "    \"Cost\": 22.50})\n",
    "purchase_1=pd.Series({\n",
    "    \"Name\":\"Kevin\",\n",
    "    \"Item purchased\":\"Kitty Litter\",\n",
    "    \"cost\":2.50})\n",
    "purchase_2=pd.Series({\n",
    "    \"Name\":\"Vinod\",\n",
    "    \"Item purchased\":\"Bird seed\",\n",
    "    \"Cost\": 5.00})\n",
    "\n",
    "df=pd.DataFrame([purchase,purchase_1,purchase_2],index=['Store 1','strore 2','store 3'])\n",
    "df.head()"
   ]
  },
  {
   "cell_type": "code",
   "execution_count": 2,
   "metadata": {},
   "outputs": [
    {
     "data": {
      "text/plain": [
       "0    1\n",
       "1    2\n",
       "2    3\n",
       "3    4\n",
       "4    5\n",
       "5    6\n",
       "dtype: int64"
      ]
     },
     "execution_count": 2,
     "metadata": {},
     "output_type": "execute_result"
    }
   ],
   "source": [
    "import pandas as pd\n",
    "number=[1,2,3,4,5,6]\n",
    "pd.Series(number)"
   ]
  },
  {
   "cell_type": "code",
   "execution_count": 6,
   "metadata": {},
   "outputs": [
    {
     "data": {
      "text/plain": [
       "Archary           Bhutan\n",
       "Golf            scotland\n",
       "Sumo               Japan\n",
       "Taekondow    South Korea\n",
       "dtype: object"
      ]
     },
     "execution_count": 6,
     "metadata": {},
     "output_type": "execute_result"
    }
   ],
   "source": [
    "sports={\n",
    "    \"Archary\":\"Bhutan\",\n",
    "    \"Golf\":'scotland',\n",
    "    \"Sumo\":'Japan',\n",
    "    \"Taekondow\":'South Korea'\n",
    "    \n",
    "}\n",
    "\n",
    "s=pd.Series(sports)\n",
    "s"
   ]
  },
  {
   "cell_type": "code",
   "execution_count": 8,
   "metadata": {},
   "outputs": [
    {
     "data": {
      "text/plain": [
       "India      Tiger\n",
       "America     bear\n",
       "Canada     Moose\n",
       "dtype: object"
      ]
     },
     "execution_count": 8,
     "metadata": {},
     "output_type": "execute_result"
    }
   ],
   "source": [
    "s=pd.Series([\"Tiger\",\"bear\",\"Moose\"],index=['India','America',\"Canada\"])\n",
    "s"
   ]
  },
  {
   "cell_type": "code",
   "execution_count": 10,
   "metadata": {},
   "outputs": [
    {
     "data": {
      "text/plain": [
       "Archary    Bhutan\n",
       "Sumo        Japan\n",
       "Hockey        NaN\n",
       "dtype: object"
      ]
     },
     "execution_count": 10,
     "metadata": {},
     "output_type": "execute_result"
    }
   ],
   "source": [
    "sports={\n",
    "    \"Archary\":'Bhutan',\n",
    "    \"Sumo\":'Japan',\n",
    "    'Taekondow':'South Korea'\n",
    "}\n",
    "s=pd.Series(sports,index=[\"Archary\",\"Sumo\",'Hockey'])\n",
    "s"
   ]
  },
  {
   "cell_type": "code",
   "execution_count": 12,
   "metadata": {},
   "outputs": [
    {
     "data": {
      "text/plain": [
       "'Japan'"
      ]
     },
     "execution_count": 12,
     "metadata": {},
     "output_type": "execute_result"
    }
   ],
   "source": [
    "s.iloc[1]"
   ]
  },
  {
   "cell_type": "code",
   "execution_count": 14,
   "metadata": {},
   "outputs": [
    {
     "data": {
      "text/plain": [
       "'Japan'"
      ]
     },
     "execution_count": 14,
     "metadata": {},
     "output_type": "execute_result"
    }
   ],
   "source": [
    "s[1]"
   ]
  },
  {
   "cell_type": "code",
   "execution_count": 16,
   "metadata": {},
   "outputs": [
    {
     "data": {
      "text/plain": [
       "0    100.0\n",
       "1    102.0\n",
       "2    141.5\n",
       "3    200.3\n",
       "dtype: float64"
      ]
     },
     "execution_count": 16,
     "metadata": {},
     "output_type": "execute_result"
    }
   ],
   "source": [
    "s=pd.Series([100,102.00,141.5,200.3])\n",
    "s"
   ]
  },
  {
   "cell_type": "code",
   "execution_count": 19,
   "metadata": {},
   "outputs": [
    {
     "data": {
      "text/plain": [
       "0    106.0\n",
       "1    108.0\n",
       "2    147.5\n",
       "3    206.3\n",
       "dtype: float64"
      ]
     },
     "execution_count": 19,
     "metadata": {},
     "output_type": "execute_result"
    }
   ],
   "source": [
    "s+=2\n",
    "s"
   ]
  },
  {
   "cell_type": "code",
   "execution_count": 20,
   "metadata": {},
   "outputs": [
    {
     "name": "stdout",
     "output_type": "stream",
     "text": [
      "567.8\n"
     ]
    }
   ],
   "source": [
    "total=0\n",
    "for item in s:\n",
    "    total+=item\n",
    "print(total)"
   ]
  },
  {
   "cell_type": "code",
   "execution_count": 21,
   "metadata": {},
   "outputs": [
    {
     "data": {
      "text/plain": [
       "567.8"
      ]
     },
     "execution_count": 21,
     "metadata": {},
     "output_type": "execute_result"
    }
   ],
   "source": [
    "import numpy as np\n",
    "s=np.sum(s)\n",
    "s"
   ]
  },
  {
   "cell_type": "markdown",
   "metadata": {},
   "source": [
    "# data Frame"
   ]
  },
  {
   "cell_type": "code",
   "execution_count": 33,
   "metadata": {},
   "outputs": [
    {
     "data": {
      "text/html": [
       "<div>\n",
       "<style scoped>\n",
       "    .dataframe tbody tr th:only-of-type {\n",
       "        vertical-align: middle;\n",
       "    }\n",
       "\n",
       "    .dataframe tbody tr th {\n",
       "        vertical-align: top;\n",
       "    }\n",
       "\n",
       "    .dataframe thead th {\n",
       "        text-align: right;\n",
       "    }\n",
       "</style>\n",
       "<table border=\"1\" class=\"dataframe\">\n",
       "  <thead>\n",
       "    <tr style=\"text-align: right;\">\n",
       "      <th></th>\n",
       "      <th>Name</th>\n",
       "      <th>Item purchase</th>\n",
       "      <th>Cost</th>\n",
       "    </tr>\n",
       "  </thead>\n",
       "  <tbody>\n",
       "    <tr>\n",
       "      <th>Store_1</th>\n",
       "      <td>Kevin</td>\n",
       "      <td>Dog food</td>\n",
       "      <td>20</td>\n",
       "    </tr>\n",
       "    <tr>\n",
       "      <th>Store_2</th>\n",
       "      <td>Kevin</td>\n",
       "      <td>Bird Seed</td>\n",
       "      <td>20</td>\n",
       "    </tr>\n",
       "    <tr>\n",
       "      <th>Store_3</th>\n",
       "      <td>Kevin</td>\n",
       "      <td>Kitty litter</td>\n",
       "      <td>20</td>\n",
       "    </tr>\n",
       "  </tbody>\n",
       "</table>\n",
       "</div>"
      ],
      "text/plain": [
       "          Name Item purchase  Cost\n",
       "Store_1  Kevin      Dog food    20\n",
       "Store_2  Kevin     Bird Seed    20\n",
       "Store_3  Kevin  Kitty litter    20"
      ]
     },
     "execution_count": 33,
     "metadata": {},
     "output_type": "execute_result"
    }
   ],
   "source": [
    "purchase_1=({\n",
    "    \"Name\":\"Kevin\",\n",
    "    \"Item purchase\":\"Dog food\",\n",
    "    \"Cost\":20\n",
    "})\n",
    "purchase_2=({\n",
    "     \"Name\":\"Kevin\",\n",
    "    \"Item purchase\":\"Bird Seed\",\n",
    "    \"Cost\":20\n",
    "})\n",
    "purchase_3=({\n",
    "   \"Name\":\"Kevin\",\n",
    "    \"Item purchase\":\"Kitty litter\",\n",
    "    \"Cost\":20\n",
    "    \n",
    "})\n",
    "\n",
    "df=pd.DataFrame([purchase_1,purchase_2,purchase_3],index=[\"Store_1\",\"Store_2\",\"Store_3\"])\n",
    "df.head()"
   ]
  },
  {
   "cell_type": "code",
   "execution_count": 29,
   "metadata": {},
   "outputs": [
    {
     "data": {
      "text/plain": [
       "Name                    Kevin\n",
       "Itme purchase    Kitty litter\n",
       "Cost                       20\n",
       "Name: Store_3, dtype: object"
      ]
     },
     "execution_count": 29,
     "metadata": {},
     "output_type": "execute_result"
    }
   ],
   "source": [
    "df.loc[\"Store_3\"]"
   ]
  },
  {
   "cell_type": "code",
   "execution_count": 35,
   "metadata": {},
   "outputs": [
    {
     "data": {
      "text/plain": [
       "Store_1        Dog food\n",
       "Store_2       Bird Seed\n",
       "Store_3    Kitty litter\n",
       "Name: Item purchase, dtype: object"
      ]
     },
     "execution_count": 35,
     "metadata": {},
     "output_type": "execute_result"
    }
   ],
   "source": [
    "df.loc[:,\"Item purchase\"]"
   ]
  },
  {
   "cell_type": "code",
   "execution_count": 37,
   "metadata": {},
   "outputs": [
    {
     "data": {
      "text/plain": [
       "Store_1    20\n",
       "Store_2    20\n",
       "Store_3    20\n",
       "Name: Cost, dtype: int64"
      ]
     },
     "execution_count": 37,
     "metadata": {},
     "output_type": "execute_result"
    }
   ],
   "source": [
    "df.loc[:,\"Cost\"]"
   ]
  },
  {
   "cell_type": "code",
   "execution_count": 38,
   "metadata": {},
   "outputs": [
    {
     "data": {
      "text/html": [
       "<div>\n",
       "<style scoped>\n",
       "    .dataframe tbody tr th:only-of-type {\n",
       "        vertical-align: middle;\n",
       "    }\n",
       "\n",
       "    .dataframe tbody tr th {\n",
       "        vertical-align: top;\n",
       "    }\n",
       "\n",
       "    .dataframe thead th {\n",
       "        text-align: right;\n",
       "    }\n",
       "</style>\n",
       "<table border=\"1\" class=\"dataframe\">\n",
       "  <thead>\n",
       "    <tr style=\"text-align: right;\">\n",
       "      <th></th>\n",
       "      <th>Store_1</th>\n",
       "      <th>Store_2</th>\n",
       "      <th>Store_3</th>\n",
       "    </tr>\n",
       "  </thead>\n",
       "  <tbody>\n",
       "    <tr>\n",
       "      <th>Name</th>\n",
       "      <td>Kevin</td>\n",
       "      <td>Kevin</td>\n",
       "      <td>Kevin</td>\n",
       "    </tr>\n",
       "    <tr>\n",
       "      <th>Item purchase</th>\n",
       "      <td>Dog food</td>\n",
       "      <td>Bird Seed</td>\n",
       "      <td>Kitty litter</td>\n",
       "    </tr>\n",
       "    <tr>\n",
       "      <th>Cost</th>\n",
       "      <td>20</td>\n",
       "      <td>20</td>\n",
       "      <td>20</td>\n",
       "    </tr>\n",
       "  </tbody>\n",
       "</table>\n",
       "</div>"
      ],
      "text/plain": [
       "                Store_1    Store_2       Store_3\n",
       "Name              Kevin      Kevin         Kevin\n",
       "Item purchase  Dog food  Bird Seed  Kitty litter\n",
       "Cost                 20         20            20"
      ]
     },
     "execution_count": 38,
     "metadata": {},
     "output_type": "execute_result"
    }
   ],
   "source": [
    "df.T"
   ]
  },
  {
   "cell_type": "code",
   "execution_count": 40,
   "metadata": {},
   "outputs": [
    {
     "data": {
      "text/plain": [
       "20"
      ]
     },
     "execution_count": 40,
     "metadata": {},
     "output_type": "execute_result"
    }
   ],
   "source": [
    "df.loc['Store_1']['Cost']"
   ]
  },
  {
   "cell_type": "code",
   "execution_count": 43,
   "metadata": {},
   "outputs": [
    {
     "data": {
      "text/html": [
       "<div>\n",
       "<style scoped>\n",
       "    .dataframe tbody tr th:only-of-type {\n",
       "        vertical-align: middle;\n",
       "    }\n",
       "\n",
       "    .dataframe tbody tr th {\n",
       "        vertical-align: top;\n",
       "    }\n",
       "\n",
       "    .dataframe thead th {\n",
       "        text-align: right;\n",
       "    }\n",
       "</style>\n",
       "<table border=\"1\" class=\"dataframe\">\n",
       "  <thead>\n",
       "    <tr style=\"text-align: right;\">\n",
       "      <th></th>\n",
       "      <th>Name</th>\n",
       "      <th>Item purchase</th>\n",
       "      <th>Cost</th>\n",
       "    </tr>\n",
       "  </thead>\n",
       "  <tbody>\n",
       "    <tr>\n",
       "      <th>Store_1</th>\n",
       "      <td>Kevin</td>\n",
       "      <td>Dog food</td>\n",
       "      <td>20</td>\n",
       "    </tr>\n",
       "    <tr>\n",
       "      <th>Store_2</th>\n",
       "      <td>Kevin</td>\n",
       "      <td>Bird Seed</td>\n",
       "      <td>20</td>\n",
       "    </tr>\n",
       "    <tr>\n",
       "      <th>Store_3</th>\n",
       "      <td>Kevin</td>\n",
       "      <td>Kitty litter</td>\n",
       "      <td>20</td>\n",
       "    </tr>\n",
       "  </tbody>\n",
       "</table>\n",
       "</div>"
      ],
      "text/plain": [
       "          Name Item purchase  Cost\n",
       "Store_1  Kevin      Dog food    20\n",
       "Store_2  Kevin     Bird Seed    20\n",
       "Store_3  Kevin  Kitty litter    20"
      ]
     },
     "execution_count": 43,
     "metadata": {},
     "output_type": "execute_result"
    }
   ],
   "source": [
    "copy_df=df.copy()\n",
    "copy_df=copy_df.drop(\"Store_1\")\n",
    "copy_df\n",
    "df"
   ]
  },
  {
   "cell_type": "code",
   "execution_count": 47,
   "metadata": {},
   "outputs": [
    {
     "data": {
      "text/html": [
       "<div>\n",
       "<style scoped>\n",
       "    .dataframe tbody tr th:only-of-type {\n",
       "        vertical-align: middle;\n",
       "    }\n",
       "\n",
       "    .dataframe tbody tr th {\n",
       "        vertical-align: top;\n",
       "    }\n",
       "\n",
       "    .dataframe thead th {\n",
       "        text-align: right;\n",
       "    }\n",
       "</style>\n",
       "<table border=\"1\" class=\"dataframe\">\n",
       "  <thead>\n",
       "    <tr style=\"text-align: right;\">\n",
       "      <th></th>\n",
       "      <th>Item purchase</th>\n",
       "      <th>Cost</th>\n",
       "    </tr>\n",
       "  </thead>\n",
       "  <tbody>\n",
       "    <tr>\n",
       "      <th>Store_2</th>\n",
       "      <td>Bird Seed</td>\n",
       "      <td>20</td>\n",
       "    </tr>\n",
       "    <tr>\n",
       "      <th>Store_3</th>\n",
       "      <td>Kitty litter</td>\n",
       "      <td>20</td>\n",
       "    </tr>\n",
       "  </tbody>\n",
       "</table>\n",
       "</div>"
      ],
      "text/plain": [
       "        Item purchase  Cost\n",
       "Store_2     Bird Seed    20\n",
       "Store_3  Kitty litter    20"
      ]
     },
     "execution_count": 47,
     "metadata": {},
     "output_type": "execute_result"
    }
   ],
   "source": [
    "del copy_df[\"Name\"]\n",
    "copy_df"
   ]
  },
  {
   "cell_type": "code",
   "execution_count": 49,
   "metadata": {},
   "outputs": [
    {
     "data": {
      "text/html": [
       "<div>\n",
       "<style scoped>\n",
       "    .dataframe tbody tr th:only-of-type {\n",
       "        vertical-align: middle;\n",
       "    }\n",
       "\n",
       "    .dataframe tbody tr th {\n",
       "        vertical-align: top;\n",
       "    }\n",
       "\n",
       "    .dataframe thead th {\n",
       "        text-align: right;\n",
       "    }\n",
       "</style>\n",
       "<table border=\"1\" class=\"dataframe\">\n",
       "  <thead>\n",
       "    <tr style=\"text-align: right;\">\n",
       "      <th></th>\n",
       "      <th>Name</th>\n",
       "      <th>Item purchase</th>\n",
       "      <th>Cost</th>\n",
       "      <th>Location</th>\n",
       "    </tr>\n",
       "  </thead>\n",
       "  <tbody>\n",
       "    <tr>\n",
       "      <th>Store_1</th>\n",
       "      <td>Kevin</td>\n",
       "      <td>Dog food</td>\n",
       "      <td>20</td>\n",
       "      <td>25</td>\n",
       "    </tr>\n",
       "    <tr>\n",
       "      <th>Store_2</th>\n",
       "      <td>Kevin</td>\n",
       "      <td>Bird Seed</td>\n",
       "      <td>20</td>\n",
       "      <td>25</td>\n",
       "    </tr>\n",
       "    <tr>\n",
       "      <th>Store_3</th>\n",
       "      <td>Kevin</td>\n",
       "      <td>Kitty litter</td>\n",
       "      <td>20</td>\n",
       "      <td>25</td>\n",
       "    </tr>\n",
       "  </tbody>\n",
       "</table>\n",
       "</div>"
      ],
      "text/plain": [
       "          Name Item purchase  Cost  Location\n",
       "Store_1  Kevin      Dog food    20        25\n",
       "Store_2  Kevin     Bird Seed    20        25\n",
       "Store_3  Kevin  Kitty litter    20        25"
      ]
     },
     "execution_count": 49,
     "metadata": {},
     "output_type": "execute_result"
    }
   ],
   "source": [
    "df[\"Location\"]=df['Cost']+5\n",
    "df"
   ]
  },
  {
   "cell_type": "code",
   "execution_count": 50,
   "metadata": {},
   "outputs": [
    {
     "data": {
      "text/html": [
       "<div>\n",
       "<style scoped>\n",
       "    .dataframe tbody tr th:only-of-type {\n",
       "        vertical-align: middle;\n",
       "    }\n",
       "\n",
       "    .dataframe tbody tr th {\n",
       "        vertical-align: top;\n",
       "    }\n",
       "\n",
       "    .dataframe thead th {\n",
       "        text-align: right;\n",
       "    }\n",
       "</style>\n",
       "<table border=\"1\" class=\"dataframe\">\n",
       "  <thead>\n",
       "    <tr style=\"text-align: right;\">\n",
       "      <th></th>\n",
       "      <th>Name</th>\n",
       "      <th>Item Purchased</th>\n",
       "      <th>Cost</th>\n",
       "    </tr>\n",
       "  </thead>\n",
       "  <tbody>\n",
       "    <tr>\n",
       "      <th>Store 1</th>\n",
       "      <td>Chris</td>\n",
       "      <td>Dog Food</td>\n",
       "      <td>18.0</td>\n",
       "    </tr>\n",
       "    <tr>\n",
       "      <th>Store 1</th>\n",
       "      <td>Kevyn</td>\n",
       "      <td>Kitty Litter</td>\n",
       "      <td>2.0</td>\n",
       "    </tr>\n",
       "    <tr>\n",
       "      <th>Store 2</th>\n",
       "      <td>Vinod</td>\n",
       "      <td>Bird Seed</td>\n",
       "      <td>4.0</td>\n",
       "    </tr>\n",
       "  </tbody>\n",
       "</table>\n",
       "</div>"
      ],
      "text/plain": [
       "          Name Item Purchased  Cost\n",
       "Store 1  Chris       Dog Food  18.0\n",
       "Store 1  Kevyn   Kitty Litter   2.0\n",
       "Store 2  Vinod      Bird Seed   4.0"
      ]
     },
     "execution_count": 50,
     "metadata": {},
     "output_type": "execute_result"
    }
   ],
   "source": [
    "purchase_1 = pd.Series({'Name': 'Chris',\n",
    "                        'Item Purchased': 'Dog Food',\n",
    "                        'Cost': 22.50})\n",
    "purchase_2 = pd.Series({'Name': 'Kevyn',\n",
    "                        'Item Purchased': 'Kitty Litter',\n",
    "                        'Cost': 2.50})\n",
    "purchase_3 = pd.Series({'Name': 'Vinod',\n",
    "                        'Item Purchased': 'Bird Seed',\n",
    "                        'Cost': 5.00})\n",
    "\n",
    "df = pd.DataFrame([purchase_1, purchase_2, purchase_3], index=['Store 1', 'Store 1', 'Store 2'])\n",
    "df[\"Cost\"]=df[\"Cost\"]*0.8\n",
    "df"
   ]
  },
  {
   "cell_type": "code",
   "execution_count": 58,
   "metadata": {},
   "outputs": [
    {
     "data": {
      "text/html": [
       "<div>\n",
       "<style scoped>\n",
       "    .dataframe tbody tr th:only-of-type {\n",
       "        vertical-align: middle;\n",
       "    }\n",
       "\n",
       "    .dataframe tbody tr th {\n",
       "        vertical-align: top;\n",
       "    }\n",
       "\n",
       "    .dataframe thead th {\n",
       "        text-align: right;\n",
       "    }\n",
       "</style>\n",
       "<table border=\"1\" class=\"dataframe\">\n",
       "  <thead>\n",
       "    <tr style=\"text-align: right;\">\n",
       "      <th></th>\n",
       "      <th>0</th>\n",
       "      <th>1</th>\n",
       "      <th>2</th>\n",
       "      <th>3</th>\n",
       "      <th>4</th>\n",
       "      <th>5</th>\n",
       "      <th>6</th>\n",
       "      <th>7</th>\n",
       "      <th>8</th>\n",
       "      <th>9</th>\n",
       "      <th>10</th>\n",
       "      <th>11</th>\n",
       "      <th>12</th>\n",
       "      <th>13</th>\n",
       "      <th>14</th>\n",
       "      <th>15</th>\n",
       "    </tr>\n",
       "  </thead>\n",
       "  <tbody>\n",
       "    <tr>\n",
       "      <th>0</th>\n",
       "      <td>NaN</td>\n",
       "      <td>№ Summer</td>\n",
       "      <td>01 !</td>\n",
       "      <td>02 !</td>\n",
       "      <td>03 !</td>\n",
       "      <td>Total</td>\n",
       "      <td>№ Winter</td>\n",
       "      <td>01 !</td>\n",
       "      <td>02 !</td>\n",
       "      <td>03 !</td>\n",
       "      <td>Total</td>\n",
       "      <td>№ Games</td>\n",
       "      <td>01 !</td>\n",
       "      <td>02 !</td>\n",
       "      <td>03 !</td>\n",
       "      <td>Combined total</td>\n",
       "    </tr>\n",
       "    <tr>\n",
       "      <th>1</th>\n",
       "      <td>Afghanistan (AFG)</td>\n",
       "      <td>13</td>\n",
       "      <td>0</td>\n",
       "      <td>0</td>\n",
       "      <td>2</td>\n",
       "      <td>2</td>\n",
       "      <td>0</td>\n",
       "      <td>0</td>\n",
       "      <td>0</td>\n",
       "      <td>0</td>\n",
       "      <td>0</td>\n",
       "      <td>13</td>\n",
       "      <td>0</td>\n",
       "      <td>0</td>\n",
       "      <td>2</td>\n",
       "      <td>2</td>\n",
       "    </tr>\n",
       "    <tr>\n",
       "      <th>2</th>\n",
       "      <td>Algeria (ALG)</td>\n",
       "      <td>12</td>\n",
       "      <td>5</td>\n",
       "      <td>2</td>\n",
       "      <td>8</td>\n",
       "      <td>15</td>\n",
       "      <td>3</td>\n",
       "      <td>0</td>\n",
       "      <td>0</td>\n",
       "      <td>0</td>\n",
       "      <td>0</td>\n",
       "      <td>15</td>\n",
       "      <td>5</td>\n",
       "      <td>2</td>\n",
       "      <td>8</td>\n",
       "      <td>15</td>\n",
       "    </tr>\n",
       "    <tr>\n",
       "      <th>3</th>\n",
       "      <td>Argentina (ARG)</td>\n",
       "      <td>23</td>\n",
       "      <td>18</td>\n",
       "      <td>24</td>\n",
       "      <td>28</td>\n",
       "      <td>70</td>\n",
       "      <td>18</td>\n",
       "      <td>0</td>\n",
       "      <td>0</td>\n",
       "      <td>0</td>\n",
       "      <td>0</td>\n",
       "      <td>41</td>\n",
       "      <td>18</td>\n",
       "      <td>24</td>\n",
       "      <td>28</td>\n",
       "      <td>70</td>\n",
       "    </tr>\n",
       "    <tr>\n",
       "      <th>4</th>\n",
       "      <td>Armenia (ARM)</td>\n",
       "      <td>5</td>\n",
       "      <td>1</td>\n",
       "      <td>2</td>\n",
       "      <td>9</td>\n",
       "      <td>12</td>\n",
       "      <td>6</td>\n",
       "      <td>0</td>\n",
       "      <td>0</td>\n",
       "      <td>0</td>\n",
       "      <td>0</td>\n",
       "      <td>11</td>\n",
       "      <td>1</td>\n",
       "      <td>2</td>\n",
       "      <td>9</td>\n",
       "      <td>12</td>\n",
       "    </tr>\n",
       "  </tbody>\n",
       "</table>\n",
       "</div>"
      ],
      "text/plain": [
       "                   0         1     2     3     4      5         6     7     8  \\\n",
       "0                NaN  № Summer  01 !  02 !  03 !  Total  № Winter  01 !  02 !   \n",
       "1  Afghanistan (AFG)        13     0     0     2      2         0     0     0   \n",
       "2      Algeria (ALG)        12     5     2     8     15         3     0     0   \n",
       "3    Argentina (ARG)        23    18    24    28     70        18     0     0   \n",
       "4      Armenia (ARM)         5     1     2     9     12         6     0     0   \n",
       "\n",
       "      9     10       11    12    13    14              15  \n",
       "0  03 !  Total  № Games  01 !  02 !  03 !  Combined total  \n",
       "1     0      0       13     0     0     2               2  \n",
       "2     0      0       15     5     2     8              15  \n",
       "3     0      0       41    18    24    28              70  \n",
       "4     0      0       11     1     2     9              12  "
      ]
     },
     "execution_count": 58,
     "metadata": {},
     "output_type": "execute_result"
    }
   ],
   "source": [
    "df=pd.read_csv(\"olympics.csv\")\n",
    "df.head()"
   ]
  },
  {
   "cell_type": "code",
   "execution_count": 60,
   "metadata": {},
   "outputs": [
    {
     "name": "stdout",
     "output_type": "stream",
     "text": [
      "                                                0         1     2     3     4      5         6     7     8     9     10       11    12    13    14              15\n",
      "0                                             NaN  № Summer  01 !  02 !  03 !  Total  № Winter  01 !  02 !  03 !  Total  № Games  01 !  02 !  03 !  Combined total\n",
      "1                               Afghanistan (AFG)        13     0     0     2      2         0     0     0     0      0       13     0     0     2               2\n",
      "2                                   Algeria (ALG)        12     5     2     8     15         3     0     0     0      0       15     5     2     8              15\n",
      "3                                 Argentina (ARG)        23    18    24    28     70        18     0     0     0      0       41    18    24    28              70\n",
      "4                                   Armenia (ARM)         5     1     2     9     12         6     0     0     0      0       11     1     2     9              12\n",
      "5                         Australasia (ANZ) [ANZ]         2     3     4     5     12         0     0     0     0      0        2     3     4     5              12\n",
      "6                       Australia (AUS) [AUS] [Z]        25   139   152   177    468        18     5     3     4     12       43   144   155   181             480\n",
      "7                                   Austria (AUT)        26    18    33    35     86        22    59    78    81    218       48    77   111   116             304\n",
      "8                                Azerbaijan (AZE)         5     6     5    15     26         5     0     0     0      0       10     6     5    15              26\n",
      "9                                   Bahamas (BAH)        15     5     2     5     12         0     0     0     0      0       15     5     2     5              12\n",
      "10                                  Bahrain (BRN)         8     0     0     1      1         0     0     0     0      0        8     0     0     1               1\n",
      "11                           Barbados (BAR) [BAR]        11     0     0     1      1         0     0     0     0      0       11     0     0     1               1\n",
      "12                                  Belarus (BLR)         5    12    24    39     75         6     6     4     5     15       11    18    28    44              90\n",
      "13                                  Belgium (BEL)        25    37    52    53    142        20     1     1     3      5       45    38    53    56             147\n",
      "14                                  Bermuda (BER)        17     0     0     1      1         7     0     0     0      0       24     0     0     1               1\n",
      "15                        Bohemia (BOH) [BOH] [Z]         3     0     1     3      4         0     0     0     0      0        3     0     1     3               4\n",
      "16                                 Botswana (BOT)         9     0     1     0      1         0     0     0     0      0        9     0     1     0               1\n",
      "17                                   Brazil (BRA)        21    23    30    55    108         7     0     0     0      0       28    23    30    55             108\n",
      "18                British West Indies (BWI) [BWI]         1     0     0     2      2         0     0     0     0      0        1     0     0     2               2\n",
      "19                             Bulgaria (BUL) [H]        19    51    85    78    214        19     1     2     3      6       38    52    87    81             220\n",
      "20                                  Burundi (BDI)         5     1     0     0      1         0     0     0     0      0        5     1     0     0               1\n",
      "21                                 Cameroon (CMR)        13     3     1     1      5         1     0     0     0      0       14     3     1     1               5\n",
      "22                                   Canada (CAN)        25    59    99   121    279        22    62    56    52    170       47   121   155   173             449\n",
      "23                                Chile (CHI) [I]        22     2     7     4     13        16     0     0     0      0       38     2     7     4              13\n",
      "24                              China (CHN) [CHN]         9   201   146   126    473        10    12    22    19     53       19   213   168   145             526\n",
      "25                                 Colombia (COL)        18     2     6    11     19         1     0     0     0      0       19     2     6    11              19\n",
      "26                               Costa Rica (CRC)        14     1     1     2      4         6     0     0     0      0       20     1     1     2               4\n",
      "27                        Ivory Coast (CIV) [CIV]        12     0     1     0      1         0     0     0     0      0       12     0     1     0               1\n",
      "28                                  Croatia (CRO)         6     6     7    10     23         7     4     6     1     11       13    10    13    11              34\n",
      "29                                 Cuba (CUB) [Z]        19    72    67    70    209         0     0     0     0      0       19    72    67    70             209\n",
      "30                                   Cyprus (CYP)         9     0     1     0      1        10     0     0     0      0       19     0     1     0               1\n",
      "31                     Czech Republic (CZE) [CZE]         5    14    15    15     44         6     7     9     8     24       11    21    24    23              68\n",
      "32                     Czechoslovakia (TCH) [TCH]        16    49    49    45    143        16     2     8    15     25       32    51    57    60             168\n",
      "33                              Denmark (DEN) [Z]        26    43    68    68    179        13     0     1     0      1       39    43    69    68             180\n",
      "34                             Djibouti (DJI) [B]         7     0     0     1      1         0     0     0     0      0        7     0     0     1               1\n",
      "35                       Dominican Republic (DOM)        13     3     2     1      6         0     0     0     0      0       13     3     2     1               6\n",
      "36                                  Ecuador (ECU)        13     1     1     0      2         0     0     0     0      0       13     1     1     0               2\n",
      "37                          Egypt (EGY) [EGY] [Z]        21     7     9    10     26         1     0     0     0      0       22     7     9    10              26\n",
      "38                                  Eritrea (ERI)         4     0     0     1      1         0     0     0     0      0        4     0     0     1               1\n",
      "39                                  Estonia (EST)        11     9     9    15     33         9     4     2     1      7       20    13    11    16              40\n",
      "40                                 Ethiopia (ETH)        12    21     7    17     45         2     0     0     0      0       14    21     7    17              45\n",
      "41                                  Finland (FIN)        24   101    84   117    302        22    42    62    57    161       46   143   146   174             463\n",
      "42                       France (FRA) [O] [P] [Z]        27   202   223   246    671        22    31    31    47    109       49   233   254   293             780\n",
      "43                                    Gabon (GAB)         9     0     1     0      1         0     0     0     0      0        9     0     1     0               1\n",
      "44                                  Georgia (GEO)         5     6     5    14     25         6     0     0     0      0       11     6     5    14              25\n",
      "45                        Germany (GER) [GER] [Z]        15   174   182   217    573        11    78    78    53    209       26   252   260   270             782\n",
      "46             United Team of Germany (EUA) [EUA]         3    28    54    36    118         3     8     6     5     19        6    36    60    41             137\n",
      "47                       East Germany (GDR) [GDR]         5   153   129   127    409         6    39    36    35    110       11   192   165   162             519\n",
      "48                       West Germany (FRG) [FRG]         5    56    67    81    204         6    11    15    13     39       11    67    82    94             243\n",
      "49                              Ghana (GHA) [GHA]        13     0     1     3      4         1     0     0     0      0       14     0     1     3               4\n",
      "50                  Great Britain (GBR) [GBR] [Z]        27   236   272   272    780        22    10     4    12     26       49   246   276   284             806\n",
      "51                               Greece (GRE) [Z]        27    30    42    39    111        18     0     0     0      0       45    30    42    39             111\n",
      "52                                  Grenada (GRN)         8     1     0     0      1         0     0     0     0      0        8     1     0     0               1\n",
      "53                                Guatemala (GUA)        13     0     1     0      1         1     0     0     0      0       14     0     1     0               1\n",
      "54                             Guyana (GUY) [GUY]        16     0     0     1      1         0     0     0     0      0       16     0     0     1               1\n",
      "55                                Haiti (HAI) [J]        14     0     1     1      2         0     0     0     0      0       14     0     1     1               2\n",
      "56                          Hong Kong (HKG) [HKG]        15     1     1     1      3         4     0     0     0      0       19     1     1     1               3\n",
      "57                                  Hungary (HUN)        25   167   144   165    476        22     0     2     4      6       47   167   146   169             482\n",
      "58                                  Iceland (ISL)        19     0     2     2      4        17     0     0     0      0       36     0     2     2               4\n",
      "59                                India (IND) [F]        23     9     6    11     26         9     0     0     0      0       32     9     6    11              26\n",
      "60                                Indonesia (INA)        14     6    10    11     27         0     0     0     0      0       14     6    10    11              27\n",
      "61                                 Iran (IRI) [K]        15    15    20    25     60        10     0     0     0      0       25    15    20    25              60\n",
      "62                                     Iraq (IRQ)        13     0     0     1      1         0     0     0     0      0       13     0     0     1               1\n",
      "63                                  Ireland (IRL)        20     9     8    12     29         6     0     0     0      0       26     9     8    12              29\n",
      "64                                   Israel (ISR)        15     1     1     5      7         6     0     0     0      0       21     1     1     5               7\n",
      "65                            Italy (ITA) [M] [S]        26   198   166   185    549        22    37    34    43    114       48   235   200   228             663\n",
      "66                            Jamaica (JAM) [JAM]        16    17    30    20     67         7     0     0     0      0       23    17    30    20              67\n",
      "67                                    Japan (JPN)        21   130   126   142    398        20    10    17    18     45       41   140   143   160             443\n",
      "68                               Kazakhstan (KAZ)         5    16    17    19     52         6     1     3     3      7       11    17    20    22              59\n",
      "69                                    Kenya (KEN)        13    25    32    29     86         3     0     0     0      0       16    25    32    29              86\n",
      "70                              North Korea (PRK)         9    14    12    21     47         8     0     1     1      2       17    14    13    22              49\n",
      "71                              South Korea (KOR)        16    81    82    80    243        17    26    17    10     53       33   107    99    90             296\n",
      "72                                   Kuwait (KUW)        12     0     0     2      2         0     0     0     0      0       12     0     0     2               2\n",
      "73                               Kyrgyzstan (KGZ)         5     0     1     2      3         6     0     0     0      0       11     0     1     2               3\n",
      "74                                   Latvia (LAT)        10     3    11     5     19        10     0     4     3      7       20     3    15     8              26\n",
      "75                                  Lebanon (LIB)        16     0     2     2      4        16     0     0     0      0       32     0     2     2               4\n",
      "76                            Liechtenstein (LIE)        16     0     0     0      0        18     2     2     5      9       34     2     2     5               9\n",
      "77                                Lithuania (LTU)         8     6     5    10     21         8     0     0     0      0       16     6     5    10              21\n",
      "78                           Luxembourg (LUX) [O]        22     1     1     0      2         8     0     2     0      2       30     1     3     0               4\n",
      "79                                Macedonia (MKD)         5     0     0     1      1         5     0     0     0      0       10     0     0     1               1\n",
      "80                           Malaysia (MAS) [MAS]        12     0     3     3      6         0     0     0     0      0       12     0     3     3               6\n",
      "81                                Mauritius (MRI)         8     0     0     1      1         0     0     0     0      0        8     0     0     1               1\n",
      "82                                   Mexico (MEX)        22    13    21    28     62         8     0     0     0      0       30    13    21    28              62\n",
      "83                                  Moldova (MDA)         5     0     2     5      7         6     0     0     0      0       11     0     2     5               7\n",
      "84                                 Mongolia (MGL)        12     2     9    13     24        13     0     0     0      0       25     2     9    13              24\n",
      "85                               Montenegro (MNE)         2     0     1     0      1         2     0     0     0      0        4     0     1     0               1\n",
      "86                                  Morocco (MAR)        13     6     5    11     22         6     0     0     0      0       19     6     5    11              22\n",
      "87                               Mozambique (MOZ)         9     1     0     1      2         0     0     0     0      0        9     1     0     1               2\n",
      "88                                  Namibia (NAM)         6     0     4     0      4         0     0     0     0      0        6     0     4     0               4\n",
      "89                          Netherlands (NED) [Z]        25    77    85   104    266        20    37    38    35    110       45   114   123   139             376\n",
      "90           Netherlands Antilles (AHO) [AHO] [I]        13     0     1     0      1         2     0     0     0      0       15     0     1     0               1\n",
      "91                        New Zealand (NZL) [NZL]        22    42    18    39     99        15     0     1     0      1       37    42    19    39             100\n",
      "92                                    Niger (NIG)        11     0     0     1      1         0     0     0     0      0       11     0     0     1               1\n",
      "93                                  Nigeria (NGR)        15     3     8    12     23         0     0     0     0      0       15     3     8    12              23\n",
      "94                               Norway (NOR) [Q]        24    56    49    43    148        22   118   111   100    329       46   174   160   143             477\n",
      "95                                 Pakistan (PAK)        16     3     3     4     10         2     0     0     0      0       18     3     3     4              10\n",
      "96                                   Panama (PAN)        16     1     0     2      3         0     0     0     0      0       16     1     0     2               3\n",
      "97                                 Paraguay (PAR)        11     0     1     0      1         1     0     0     0      0       12     0     1     0               1\n",
      "98                                 Peru (PER) [L]        17     1     3     0      4         2     0     0     0      0       19     1     3     0               4\n",
      "99                              Philippines (PHI)        20     0     2     7      9         4     0     0     0      0       24     0     2     7               9\n",
      "100                                  Poland (POL)        20    64    82   125    271        22     6     7     7     20       42    70    89   132             291\n",
      "101                                Portugal (POR)        23     4     8    11     23         7     0     0     0      0       30     4     8    11              23\n",
      "102                             Puerto Rico (PUR)        17     0     2     6      8         6     0     0     0      0       23     0     2     6               8\n",
      "103                                   Qatar (QAT)         8     0     0     4      4         0     0     0     0      0        8     0     0     4               4\n",
      "104                                 Romania (ROU)        20    88    94   119    301        20     0     0     1      1       40    88    94   120             302\n",
      "105                            Russia (RUS) [RUS]         5   132   121   142    395         6    49    40    35    124       11   181   161   177             519\n",
      "106                    Russian Empire (RU1) [RU1]         3     1     4     3      8         0     0     0     0      0        3     1     4     3               8\n",
      "107                      Soviet Union (URS) [URS]         9   395   319   296   1010         9    78    57    59    194       18   473   376   355            1204\n",
      "108                      Unified Team (EUN) [EUN]         1    45    38    29    112         1     9     6     8     23        2    54    44    37             135\n",
      "109                            Saudi Arabia (KSA)        10     0     1     2      3         0     0     0     0      0       10     0     1     2               3\n",
      "110                                 Senegal (SEN)        13     0     1     0      1         5     0     0     0      0       18     0     1     0               1\n",
      "111                            Serbia (SRB) [SRB]         3     1     2     4      7         2     0     0     0      0        5     1     2     4               7\n",
      "112             Serbia and Montenegro (SCG) [SCG]         3     2     4     3      9         3     0     0     0      0        6     2     4     3               9\n",
      "113                               Singapore (SIN)        15     0     2     2      4         0     0     0     0      0       15     0     2     2               4\n",
      "114                          Slovakia (SVK) [SVK]         5     7     9     8     24         6     2     2     1      5       11     9    11     9              29\n",
      "115                                Slovenia (SLO)         6     4     6     9     19         7     2     4     9     15       13     6    10    18              34\n",
      "116                            South Africa (RSA)        18    23    26    27     76         6     0     0     0      0       24    23    26    27              76\n",
      "117                               Spain (ESP) [Z]        22    37    59    35    131        19     1     0     1      2       41    38    59    36             133\n",
      "118                         Sri Lanka (SRI) [SRI]        16     0     2     0      2         0     0     0     0      0       16     0     2     0               2\n",
      "119                                   Sudan (SUD)        11     0     1     0      1         0     0     0     0      0       11     0     1     0               1\n",
      "120                            Suriname (SUR) [E]        11     1     0     1      2         0     0     0     0      0       11     1     0     1               2\n",
      "121                              Sweden (SWE) [Z]        26   143   164   176    483        22    50    40    54    144       48   193   204   230             627\n",
      "122                             Switzerland (SUI)        27    47    73    65    185        22    50    40    48    138       49    97   113   113             323\n",
      "123                                   Syria (SYR)        12     1     1     1      3         0     0     0     0      0       12     1     1     1               3\n",
      "124             Chinese Taipei (TPE) [TPE] [TPE2]        13     2     7    12     21        11     0     0     0      0       24     2     7    12              21\n",
      "125                              Tajikistan (TJK)         5     0     1     2      3         4     0     0     0      0        9     0     1     2               3\n",
      "126                          Tanzania (TAN) [TAN]        12     0     2     0      2         0     0     0     0      0       12     0     2     0               2\n",
      "127                                Thailand (THA)        15     7     6    11     24         3     0     0     0      0       18     7     6    11              24\n",
      "128                                    Togo (TOG)         9     0     0     1      1         1     0     0     0      0       10     0     0     1               1\n",
      "129                                   Tonga (TGA)         8     0     1     0      1         1     0     0     0      0        9     0     1     0               1\n",
      "130               Trinidad and Tobago (TRI) [TRI]        16     2     5    11     18         3     0     0     0      0       19     2     5    11              18\n",
      "131                                 Tunisia (TUN)        13     3     3     4     10         0     0     0     0      0       13     3     3     4              10\n",
      "132                                  Turkey (TUR)        21    39    25    24     88        16     0     0     0      0       37    39    25    24              88\n",
      "133                                  Uganda (UGA)        14     2     3     2      7         0     0     0     0      0       14     2     3     2               7\n",
      "134                                 Ukraine (UKR)         5    33    27    55    115         6     2     1     4      7       11    35    28    59             122\n",
      "135                    United Arab Emirates (UAE)         8     1     0     0      1         0     0     0     0      0        8     1     0     0               1\n",
      "136           United States (USA) [P] [Q] [R] [Z]        26   976   757   666   2399        22    96   102    84    282       48  1072   859   750            2681\n",
      "137                                 Uruguay (URU)        20     2     2     6     10         1     0     0     0      0       21     2     2     6              10\n",
      "138                              Uzbekistan (UZB)         5     5     5    10     20         6     1     0     0      1       11     6     5    10              21\n",
      "139                               Venezuela (VEN)        17     2     2     8     12         4     0     0     0      0       21     2     2     8              12\n",
      "140                                 Vietnam (VIE)        14     0     2     0      2         0     0     0     0      0       14     0     2     0               2\n",
      "141                          Virgin Islands (ISV)        11     0     1     0      1         7     0     0     0      0       18     0     1     0               1\n",
      "142                        Yugoslavia (YUG) [YUG]        16    26    29    28     83        14     0     3     1      4       30    26    32    29              87\n",
      "143  Independent Olympic Participants (IOP) [IOP]         1     0     1     2      3         0     0     0     0      0        1     0     1     2               3\n",
      "144                            Zambia (ZAM) [ZAM]        12     0     1     1      2         0     0     0     0      0       12     0     1     1               2\n",
      "145                          Zimbabwe (ZIM) [ZIM]        12     3     4     1      8         1     0     0     0      0       13     3     4     1               8\n",
      "146                        Mixed team (ZZX) [ZZX]         3     8     5     4     17         0     0     0     0      0        3     8     5     4              17\n",
      "147                                        Totals        27  4809  4775  5130  14714        22   959   958   948   2865       49  5768  5733  6078           17579\n"
     ]
    }
   ],
   "source": [
    "df=pd.read_csv(\"olympics.csv\")\n",
    "print(df.to_string())"
   ]
  },
  {
   "cell_type": "code",
   "execution_count": 67,
   "metadata": {},
   "outputs": [
    {
     "data": {
      "text/html": [
       "<div>\n",
       "<style scoped>\n",
       "    .dataframe tbody tr th:only-of-type {\n",
       "        vertical-align: middle;\n",
       "    }\n",
       "\n",
       "    .dataframe tbody tr th {\n",
       "        vertical-align: top;\n",
       "    }\n",
       "\n",
       "    .dataframe thead th {\n",
       "        text-align: right;\n",
       "    }\n",
       "</style>\n",
       "<table border=\"1\" class=\"dataframe\">\n",
       "  <thead>\n",
       "    <tr style=\"text-align: right;\">\n",
       "      <th></th>\n",
       "      <th>№ Summer</th>\n",
       "      <th>01 !</th>\n",
       "      <th>02 !</th>\n",
       "      <th>03 !</th>\n",
       "      <th>Total</th>\n",
       "      <th>№ Winter</th>\n",
       "      <th>01 !.1</th>\n",
       "      <th>02 !.1</th>\n",
       "      <th>03 !.1</th>\n",
       "      <th>Total.1</th>\n",
       "      <th>№ Games</th>\n",
       "      <th>01 !.2</th>\n",
       "      <th>02 !.2</th>\n",
       "      <th>03 !.2</th>\n",
       "      <th>Combined total</th>\n",
       "    </tr>\n",
       "  </thead>\n",
       "  <tbody>\n",
       "    <tr>\n",
       "      <th>Afghanistan (AFG)</th>\n",
       "      <td>13</td>\n",
       "      <td>0</td>\n",
       "      <td>0</td>\n",
       "      <td>2</td>\n",
       "      <td>2</td>\n",
       "      <td>0</td>\n",
       "      <td>0</td>\n",
       "      <td>0</td>\n",
       "      <td>0</td>\n",
       "      <td>0</td>\n",
       "      <td>13</td>\n",
       "      <td>0</td>\n",
       "      <td>0</td>\n",
       "      <td>2</td>\n",
       "      <td>2</td>\n",
       "    </tr>\n",
       "    <tr>\n",
       "      <th>Algeria (ALG)</th>\n",
       "      <td>12</td>\n",
       "      <td>5</td>\n",
       "      <td>2</td>\n",
       "      <td>8</td>\n",
       "      <td>15</td>\n",
       "      <td>3</td>\n",
       "      <td>0</td>\n",
       "      <td>0</td>\n",
       "      <td>0</td>\n",
       "      <td>0</td>\n",
       "      <td>15</td>\n",
       "      <td>5</td>\n",
       "      <td>2</td>\n",
       "      <td>8</td>\n",
       "      <td>15</td>\n",
       "    </tr>\n",
       "    <tr>\n",
       "      <th>Argentina (ARG)</th>\n",
       "      <td>23</td>\n",
       "      <td>18</td>\n",
       "      <td>24</td>\n",
       "      <td>28</td>\n",
       "      <td>70</td>\n",
       "      <td>18</td>\n",
       "      <td>0</td>\n",
       "      <td>0</td>\n",
       "      <td>0</td>\n",
       "      <td>0</td>\n",
       "      <td>41</td>\n",
       "      <td>18</td>\n",
       "      <td>24</td>\n",
       "      <td>28</td>\n",
       "      <td>70</td>\n",
       "    </tr>\n",
       "    <tr>\n",
       "      <th>Armenia (ARM)</th>\n",
       "      <td>5</td>\n",
       "      <td>1</td>\n",
       "      <td>2</td>\n",
       "      <td>9</td>\n",
       "      <td>12</td>\n",
       "      <td>6</td>\n",
       "      <td>0</td>\n",
       "      <td>0</td>\n",
       "      <td>0</td>\n",
       "      <td>0</td>\n",
       "      <td>11</td>\n",
       "      <td>1</td>\n",
       "      <td>2</td>\n",
       "      <td>9</td>\n",
       "      <td>12</td>\n",
       "    </tr>\n",
       "    <tr>\n",
       "      <th>Australasia (ANZ) [ANZ]</th>\n",
       "      <td>2</td>\n",
       "      <td>3</td>\n",
       "      <td>4</td>\n",
       "      <td>5</td>\n",
       "      <td>12</td>\n",
       "      <td>0</td>\n",
       "      <td>0</td>\n",
       "      <td>0</td>\n",
       "      <td>0</td>\n",
       "      <td>0</td>\n",
       "      <td>2</td>\n",
       "      <td>3</td>\n",
       "      <td>4</td>\n",
       "      <td>5</td>\n",
       "      <td>12</td>\n",
       "    </tr>\n",
       "  </tbody>\n",
       "</table>\n",
       "</div>"
      ],
      "text/plain": [
       "                         № Summer  01 !  02 !  03 !  Total  № Winter  01 !.1  \\\n",
       "Afghanistan (AFG)              13     0     0     2      2         0       0   \n",
       "Algeria (ALG)                  12     5     2     8     15         3       0   \n",
       "Argentina (ARG)                23    18    24    28     70        18       0   \n",
       "Armenia (ARM)                   5     1     2     9     12         6       0   \n",
       "Australasia (ANZ) [ANZ]         2     3     4     5     12         0       0   \n",
       "\n",
       "                         02 !.1  03 !.1  Total.1  № Games  01 !.2  02 !.2  \\\n",
       "Afghanistan (AFG)             0       0        0       13       0       0   \n",
       "Algeria (ALG)                 0       0        0       15       5       2   \n",
       "Argentina (ARG)               0       0        0       41      18      24   \n",
       "Armenia (ARM)                 0       0        0       11       1       2   \n",
       "Australasia (ANZ) [ANZ]       0       0        0        2       3       4   \n",
       "\n",
       "                         03 !.2  Combined total  \n",
       "Afghanistan (AFG)             2               2  \n",
       "Algeria (ALG)                 8              15  \n",
       "Argentina (ARG)              28              70  \n",
       "Armenia (ARM)                 9              12  \n",
       "Australasia (ANZ) [ANZ]       5              12  "
      ]
     },
     "execution_count": 67,
     "metadata": {},
     "output_type": "execute_result"
    }
   ],
   "source": [
    "df=pd.read_csv('olympics.csv',index_col=0,skiprows=1)\n",
    "df.head()"
   ]
  },
  {
   "cell_type": "code",
   "execution_count": 68,
   "metadata": {},
   "outputs": [
    {
     "data": {
      "text/plain": [
       "Index(['№ Summer', '01 !', '02 !', '03 !', 'Total', '№ Winter', '01 !.1',\n",
       "       '02 !.1', '03 !.1', 'Total.1', '№ Games', '01 !.2', '02 !.2', '03 !.2',\n",
       "       'Combined total'],\n",
       "      dtype='object')"
      ]
     },
     "execution_count": 68,
     "metadata": {},
     "output_type": "execute_result"
    }
   ],
   "source": [
    "df.columns"
   ]
  },
  {
   "cell_type": "code",
   "execution_count": null,
   "metadata": {},
   "outputs": [],
   "source": [
    "for "
   ]
  }
 ],
 "metadata": {
  "kernelspec": {
   "display_name": "Python 3",
   "language": "python",
   "name": "python3"
  },
  "language_info": {
   "codemirror_mode": {
    "name": "ipython",
    "version": 3
   },
   "file_extension": ".py",
   "mimetype": "text/x-python",
   "name": "python",
   "nbconvert_exporter": "python",
   "pygments_lexer": "ipython3",
   "version": "3.8.5"
  }
 },
 "nbformat": 4,
 "nbformat_minor": 4
}
